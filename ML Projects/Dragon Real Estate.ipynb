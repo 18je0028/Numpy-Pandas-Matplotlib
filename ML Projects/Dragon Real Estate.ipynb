{
 "cells": [
  {
   "cell_type": "markdown",
   "id": "793665a4",
   "metadata": {},
   "source": [
    "# Dragon Real Estate - Price Predictor"
   ]
  },
  {
   "cell_type": "code",
   "execution_count": 1,
   "id": "ccec4c1a",
   "metadata": {},
   "outputs": [],
   "source": [
    "import numpy as np\n",
    "import pandas as pd\n",
    "import matplotlib.pyplot as plt"
   ]
  },
  {
   "cell_type": "markdown",
   "id": "6ac32ac6",
   "metadata": {},
   "source": [
    "## Reading the data"
   ]
  },
  {
   "cell_type": "code",
   "execution_count": 2,
   "id": "bcb93f71",
   "metadata": {},
   "outputs": [],
   "source": [
    "housing = pd.read_csv(\"data.csv\")"
   ]
  },
  {
   "cell_type": "code",
   "execution_count": 3,
   "id": "78d34ee3",
   "metadata": {},
   "outputs": [
    {
     "name": "stdout",
     "output_type": "stream",
     "text": [
      "Index(['CRIM', 'ZN', 'INDUS', 'CHAS', 'NOX', 'RM', 'AGE', 'DIS', 'RAD', 'TAX',\n",
      "       'PATRATIO', 'B', 'LSTAT', 'MEDV'],\n",
      "      dtype='object')\n"
     ]
    }
   ],
   "source": [
    "print(housing.columns)"
   ]
  },
  {
   "cell_type": "code",
   "execution_count": 4,
   "id": "86d3d042",
   "metadata": {},
   "outputs": [
    {
     "data": {
      "text/html": [
       "<div>\n",
       "<style scoped>\n",
       "    .dataframe tbody tr th:only-of-type {\n",
       "        vertical-align: middle;\n",
       "    }\n",
       "\n",
       "    .dataframe tbody tr th {\n",
       "        vertical-align: top;\n",
       "    }\n",
       "\n",
       "    .dataframe thead th {\n",
       "        text-align: right;\n",
       "    }\n",
       "</style>\n",
       "<table border=\"1\" class=\"dataframe\">\n",
       "  <thead>\n",
       "    <tr style=\"text-align: right;\">\n",
       "      <th></th>\n",
       "      <th>CRIM</th>\n",
       "      <th>ZN</th>\n",
       "      <th>INDUS</th>\n",
       "      <th>CHAS</th>\n",
       "      <th>NOX</th>\n",
       "      <th>RM</th>\n",
       "      <th>AGE</th>\n",
       "      <th>DIS</th>\n",
       "      <th>RAD</th>\n",
       "      <th>TAX</th>\n",
       "      <th>PATRATIO</th>\n",
       "      <th>B</th>\n",
       "      <th>LSTAT</th>\n",
       "      <th>MEDV</th>\n",
       "    </tr>\n",
       "  </thead>\n",
       "  <tbody>\n",
       "    <tr>\n",
       "      <th>0</th>\n",
       "      <td>0.00632</td>\n",
       "      <td>18.0</td>\n",
       "      <td>2.31</td>\n",
       "      <td>0</td>\n",
       "      <td>0.538</td>\n",
       "      <td>6.575</td>\n",
       "      <td>65.2</td>\n",
       "      <td>4.0900</td>\n",
       "      <td>1</td>\n",
       "      <td>296</td>\n",
       "      <td>15.3</td>\n",
       "      <td>396.90</td>\n",
       "      <td>4.98</td>\n",
       "      <td>24.0</td>\n",
       "    </tr>\n",
       "    <tr>\n",
       "      <th>1</th>\n",
       "      <td>0.02731</td>\n",
       "      <td>0.0</td>\n",
       "      <td>7.07</td>\n",
       "      <td>0</td>\n",
       "      <td>0.469</td>\n",
       "      <td>6.421</td>\n",
       "      <td>78.9</td>\n",
       "      <td>4.9671</td>\n",
       "      <td>2</td>\n",
       "      <td>242</td>\n",
       "      <td>17.8</td>\n",
       "      <td>396.90</td>\n",
       "      <td>9.14</td>\n",
       "      <td>21.6</td>\n",
       "    </tr>\n",
       "    <tr>\n",
       "      <th>2</th>\n",
       "      <td>0.02729</td>\n",
       "      <td>0.0</td>\n",
       "      <td>7.07</td>\n",
       "      <td>0</td>\n",
       "      <td>0.469</td>\n",
       "      <td>7.185</td>\n",
       "      <td>61.1</td>\n",
       "      <td>4.9671</td>\n",
       "      <td>2</td>\n",
       "      <td>242</td>\n",
       "      <td>17.8</td>\n",
       "      <td>392.83</td>\n",
       "      <td>4.03</td>\n",
       "      <td>34.7</td>\n",
       "    </tr>\n",
       "    <tr>\n",
       "      <th>3</th>\n",
       "      <td>0.03237</td>\n",
       "      <td>0.0</td>\n",
       "      <td>2.18</td>\n",
       "      <td>0</td>\n",
       "      <td>0.458</td>\n",
       "      <td>6.998</td>\n",
       "      <td>45.8</td>\n",
       "      <td>6.0622</td>\n",
       "      <td>3</td>\n",
       "      <td>222</td>\n",
       "      <td>18.7</td>\n",
       "      <td>394.63</td>\n",
       "      <td>2.94</td>\n",
       "      <td>33.4</td>\n",
       "    </tr>\n",
       "    <tr>\n",
       "      <th>4</th>\n",
       "      <td>0.06905</td>\n",
       "      <td>0.0</td>\n",
       "      <td>2.18</td>\n",
       "      <td>0</td>\n",
       "      <td>0.458</td>\n",
       "      <td>7.147</td>\n",
       "      <td>54.2</td>\n",
       "      <td>6.0622</td>\n",
       "      <td>3</td>\n",
       "      <td>222</td>\n",
       "      <td>18.7</td>\n",
       "      <td>396.90</td>\n",
       "      <td>5.33</td>\n",
       "      <td>36.2</td>\n",
       "    </tr>\n",
       "  </tbody>\n",
       "</table>\n",
       "</div>"
      ],
      "text/plain": [
       "      CRIM    ZN  INDUS  CHAS    NOX     RM   AGE     DIS  RAD  TAX  PATRATIO  \\\n",
       "0  0.00632  18.0   2.31     0  0.538  6.575  65.2  4.0900    1  296      15.3   \n",
       "1  0.02731   0.0   7.07     0  0.469  6.421  78.9  4.9671    2  242      17.8   \n",
       "2  0.02729   0.0   7.07     0  0.469  7.185  61.1  4.9671    2  242      17.8   \n",
       "3  0.03237   0.0   2.18     0  0.458  6.998  45.8  6.0622    3  222      18.7   \n",
       "4  0.06905   0.0   2.18     0  0.458  7.147  54.2  6.0622    3  222      18.7   \n",
       "\n",
       "        B  LSTAT  MEDV  \n",
       "0  396.90   4.98  24.0  \n",
       "1  396.90   9.14  21.6  \n",
       "2  392.83   4.03  34.7  \n",
       "3  394.63   2.94  33.4  \n",
       "4  396.90   5.33  36.2  "
      ]
     },
     "execution_count": 4,
     "metadata": {},
     "output_type": "execute_result"
    }
   ],
   "source": [
    "housing.head()"
   ]
  },
  {
   "cell_type": "code",
   "execution_count": 5,
   "id": "b7233a02",
   "metadata": {},
   "outputs": [
    {
     "name": "stdout",
     "output_type": "stream",
     "text": [
      "<class 'pandas.core.frame.DataFrame'>\n",
      "RangeIndex: 506 entries, 0 to 505\n",
      "Data columns (total 14 columns):\n",
      " #   Column    Non-Null Count  Dtype  \n",
      "---  ------    --------------  -----  \n",
      " 0   CRIM      506 non-null    float64\n",
      " 1   ZN        506 non-null    float64\n",
      " 2   INDUS     506 non-null    float64\n",
      " 3   CHAS      506 non-null    int64  \n",
      " 4   NOX       506 non-null    float64\n",
      " 5   RM        502 non-null    float64\n",
      " 6   AGE       506 non-null    float64\n",
      " 7   DIS       506 non-null    float64\n",
      " 8   RAD       506 non-null    int64  \n",
      " 9   TAX       506 non-null    int64  \n",
      " 10  PATRATIO  506 non-null    float64\n",
      " 11  B         506 non-null    float64\n",
      " 12  LSTAT     506 non-null    float64\n",
      " 13  MEDV      506 non-null    float64\n",
      "dtypes: float64(11), int64(3)\n",
      "memory usage: 55.5 KB\n"
     ]
    }
   ],
   "source": [
    "housing.info()"
   ]
  },
  {
   "cell_type": "code",
   "execution_count": 6,
   "id": "0979cc99",
   "metadata": {},
   "outputs": [
    {
     "data": {
      "text/html": [
       "<div>\n",
       "<style scoped>\n",
       "    .dataframe tbody tr th:only-of-type {\n",
       "        vertical-align: middle;\n",
       "    }\n",
       "\n",
       "    .dataframe tbody tr th {\n",
       "        vertical-align: top;\n",
       "    }\n",
       "\n",
       "    .dataframe thead th {\n",
       "        text-align: right;\n",
       "    }\n",
       "</style>\n",
       "<table border=\"1\" class=\"dataframe\">\n",
       "  <thead>\n",
       "    <tr style=\"text-align: right;\">\n",
       "      <th></th>\n",
       "      <th>CRIM</th>\n",
       "      <th>ZN</th>\n",
       "      <th>INDUS</th>\n",
       "      <th>CHAS</th>\n",
       "      <th>NOX</th>\n",
       "      <th>RM</th>\n",
       "      <th>AGE</th>\n",
       "      <th>DIS</th>\n",
       "      <th>RAD</th>\n",
       "      <th>TAX</th>\n",
       "      <th>PATRATIO</th>\n",
       "      <th>B</th>\n",
       "      <th>LSTAT</th>\n",
       "      <th>MEDV</th>\n",
       "    </tr>\n",
       "  </thead>\n",
       "  <tbody>\n",
       "    <tr>\n",
       "      <th>count</th>\n",
       "      <td>506.000000</td>\n",
       "      <td>506.000000</td>\n",
       "      <td>506.000000</td>\n",
       "      <td>506.000000</td>\n",
       "      <td>506.000000</td>\n",
       "      <td>502.000000</td>\n",
       "      <td>506.000000</td>\n",
       "      <td>506.000000</td>\n",
       "      <td>506.000000</td>\n",
       "      <td>506.000000</td>\n",
       "      <td>506.000000</td>\n",
       "      <td>506.000000</td>\n",
       "      <td>506.000000</td>\n",
       "      <td>506.000000</td>\n",
       "    </tr>\n",
       "    <tr>\n",
       "      <th>mean</th>\n",
       "      <td>3.613524</td>\n",
       "      <td>11.363636</td>\n",
       "      <td>11.136779</td>\n",
       "      <td>0.069170</td>\n",
       "      <td>0.554695</td>\n",
       "      <td>6.284679</td>\n",
       "      <td>68.574901</td>\n",
       "      <td>3.795043</td>\n",
       "      <td>9.549407</td>\n",
       "      <td>408.237154</td>\n",
       "      <td>18.455534</td>\n",
       "      <td>356.674032</td>\n",
       "      <td>12.653063</td>\n",
       "      <td>22.532806</td>\n",
       "    </tr>\n",
       "    <tr>\n",
       "      <th>std</th>\n",
       "      <td>8.601545</td>\n",
       "      <td>23.322453</td>\n",
       "      <td>6.860353</td>\n",
       "      <td>0.253994</td>\n",
       "      <td>0.115878</td>\n",
       "      <td>0.704057</td>\n",
       "      <td>28.148861</td>\n",
       "      <td>2.105710</td>\n",
       "      <td>8.707259</td>\n",
       "      <td>168.537116</td>\n",
       "      <td>2.164946</td>\n",
       "      <td>91.294864</td>\n",
       "      <td>7.141062</td>\n",
       "      <td>9.197104</td>\n",
       "    </tr>\n",
       "    <tr>\n",
       "      <th>min</th>\n",
       "      <td>0.006320</td>\n",
       "      <td>0.000000</td>\n",
       "      <td>0.460000</td>\n",
       "      <td>0.000000</td>\n",
       "      <td>0.385000</td>\n",
       "      <td>3.561000</td>\n",
       "      <td>2.900000</td>\n",
       "      <td>1.129600</td>\n",
       "      <td>1.000000</td>\n",
       "      <td>187.000000</td>\n",
       "      <td>12.600000</td>\n",
       "      <td>0.320000</td>\n",
       "      <td>1.730000</td>\n",
       "      <td>5.000000</td>\n",
       "    </tr>\n",
       "    <tr>\n",
       "      <th>25%</th>\n",
       "      <td>0.082045</td>\n",
       "      <td>0.000000</td>\n",
       "      <td>5.190000</td>\n",
       "      <td>0.000000</td>\n",
       "      <td>0.449000</td>\n",
       "      <td>5.885500</td>\n",
       "      <td>45.025000</td>\n",
       "      <td>2.100175</td>\n",
       "      <td>4.000000</td>\n",
       "      <td>279.000000</td>\n",
       "      <td>17.400000</td>\n",
       "      <td>375.377500</td>\n",
       "      <td>6.950000</td>\n",
       "      <td>17.025000</td>\n",
       "    </tr>\n",
       "    <tr>\n",
       "      <th>50%</th>\n",
       "      <td>0.256510</td>\n",
       "      <td>0.000000</td>\n",
       "      <td>9.690000</td>\n",
       "      <td>0.000000</td>\n",
       "      <td>0.538000</td>\n",
       "      <td>6.209000</td>\n",
       "      <td>77.500000</td>\n",
       "      <td>3.207450</td>\n",
       "      <td>5.000000</td>\n",
       "      <td>330.000000</td>\n",
       "      <td>19.050000</td>\n",
       "      <td>391.440000</td>\n",
       "      <td>11.360000</td>\n",
       "      <td>21.200000</td>\n",
       "    </tr>\n",
       "    <tr>\n",
       "      <th>75%</th>\n",
       "      <td>3.677083</td>\n",
       "      <td>12.500000</td>\n",
       "      <td>18.100000</td>\n",
       "      <td>0.000000</td>\n",
       "      <td>0.624000</td>\n",
       "      <td>6.623500</td>\n",
       "      <td>94.075000</td>\n",
       "      <td>5.188425</td>\n",
       "      <td>24.000000</td>\n",
       "      <td>666.000000</td>\n",
       "      <td>20.200000</td>\n",
       "      <td>396.225000</td>\n",
       "      <td>16.955000</td>\n",
       "      <td>25.000000</td>\n",
       "    </tr>\n",
       "    <tr>\n",
       "      <th>max</th>\n",
       "      <td>88.976200</td>\n",
       "      <td>100.000000</td>\n",
       "      <td>27.740000</td>\n",
       "      <td>1.000000</td>\n",
       "      <td>0.871000</td>\n",
       "      <td>8.780000</td>\n",
       "      <td>100.000000</td>\n",
       "      <td>12.126500</td>\n",
       "      <td>24.000000</td>\n",
       "      <td>711.000000</td>\n",
       "      <td>22.000000</td>\n",
       "      <td>396.900000</td>\n",
       "      <td>37.970000</td>\n",
       "      <td>50.000000</td>\n",
       "    </tr>\n",
       "  </tbody>\n",
       "</table>\n",
       "</div>"
      ],
      "text/plain": [
       "             CRIM          ZN       INDUS        CHAS         NOX          RM  \\\n",
       "count  506.000000  506.000000  506.000000  506.000000  506.000000  502.000000   \n",
       "mean     3.613524   11.363636   11.136779    0.069170    0.554695    6.284679   \n",
       "std      8.601545   23.322453    6.860353    0.253994    0.115878    0.704057   \n",
       "min      0.006320    0.000000    0.460000    0.000000    0.385000    3.561000   \n",
       "25%      0.082045    0.000000    5.190000    0.000000    0.449000    5.885500   \n",
       "50%      0.256510    0.000000    9.690000    0.000000    0.538000    6.209000   \n",
       "75%      3.677083   12.500000   18.100000    0.000000    0.624000    6.623500   \n",
       "max     88.976200  100.000000   27.740000    1.000000    0.871000    8.780000   \n",
       "\n",
       "              AGE         DIS         RAD         TAX    PATRATIO           B  \\\n",
       "count  506.000000  506.000000  506.000000  506.000000  506.000000  506.000000   \n",
       "mean    68.574901    3.795043    9.549407  408.237154   18.455534  356.674032   \n",
       "std     28.148861    2.105710    8.707259  168.537116    2.164946   91.294864   \n",
       "min      2.900000    1.129600    1.000000  187.000000   12.600000    0.320000   \n",
       "25%     45.025000    2.100175    4.000000  279.000000   17.400000  375.377500   \n",
       "50%     77.500000    3.207450    5.000000  330.000000   19.050000  391.440000   \n",
       "75%     94.075000    5.188425   24.000000  666.000000   20.200000  396.225000   \n",
       "max    100.000000   12.126500   24.000000  711.000000   22.000000  396.900000   \n",
       "\n",
       "            LSTAT        MEDV  \n",
       "count  506.000000  506.000000  \n",
       "mean    12.653063   22.532806  \n",
       "std      7.141062    9.197104  \n",
       "min      1.730000    5.000000  \n",
       "25%      6.950000   17.025000  \n",
       "50%     11.360000   21.200000  \n",
       "75%     16.955000   25.000000  \n",
       "max     37.970000   50.000000  "
      ]
     },
     "execution_count": 6,
     "metadata": {},
     "output_type": "execute_result"
    }
   ],
   "source": [
    "housing.describe()"
   ]
  },
  {
   "cell_type": "code",
   "execution_count": 7,
   "id": "16766877",
   "metadata": {},
   "outputs": [
    {
     "data": {
      "text/plain": [
       "0      0\n",
       "1      0\n",
       "2      0\n",
       "3      0\n",
       "4      0\n",
       "      ..\n",
       "501    0\n",
       "502    0\n",
       "503    0\n",
       "504    0\n",
       "505    0\n",
       "Name: CHAS, Length: 506, dtype: int64"
      ]
     },
     "execution_count": 7,
     "metadata": {},
     "output_type": "execute_result"
    }
   ],
   "source": [
    "housing['CHAS']"
   ]
  },
  {
   "cell_type": "code",
   "execution_count": 8,
   "id": "0600ce50",
   "metadata": {},
   "outputs": [
    {
     "data": {
      "text/plain": [
       "0    471\n",
       "1     35\n",
       "Name: CHAS, dtype: int64"
      ]
     },
     "execution_count": 8,
     "metadata": {},
     "output_type": "execute_result"
    }
   ],
   "source": [
    "housing['CHAS'].value_counts()"
   ]
  },
  {
   "cell_type": "code",
   "execution_count": 9,
   "id": "41831b85",
   "metadata": {
    "scrolled": true
   },
   "outputs": [
    {
     "data": {
      "text/html": [
       "<div>\n",
       "<style scoped>\n",
       "    .dataframe tbody tr th:only-of-type {\n",
       "        vertical-align: middle;\n",
       "    }\n",
       "\n",
       "    .dataframe tbody tr th {\n",
       "        vertical-align: top;\n",
       "    }\n",
       "\n",
       "    .dataframe thead th {\n",
       "        text-align: right;\n",
       "    }\n",
       "</style>\n",
       "<table border=\"1\" class=\"dataframe\">\n",
       "  <thead>\n",
       "    <tr style=\"text-align: right;\">\n",
       "      <th></th>\n",
       "      <th>CRIM</th>\n",
       "      <th>ZN</th>\n",
       "      <th>INDUS</th>\n",
       "      <th>CHAS</th>\n",
       "      <th>NOX</th>\n",
       "      <th>RM</th>\n",
       "      <th>AGE</th>\n",
       "      <th>DIS</th>\n",
       "      <th>RAD</th>\n",
       "      <th>TAX</th>\n",
       "      <th>PATRATIO</th>\n",
       "      <th>B</th>\n",
       "      <th>LSTAT</th>\n",
       "      <th>MEDV</th>\n",
       "    </tr>\n",
       "  </thead>\n",
       "  <tbody>\n",
       "    <tr>\n",
       "      <th>count</th>\n",
       "      <td>506.000000</td>\n",
       "      <td>506.000000</td>\n",
       "      <td>506.000000</td>\n",
       "      <td>506.000000</td>\n",
       "      <td>506.000000</td>\n",
       "      <td>502.000000</td>\n",
       "      <td>506.000000</td>\n",
       "      <td>506.000000</td>\n",
       "      <td>506.000000</td>\n",
       "      <td>506.000000</td>\n",
       "      <td>506.000000</td>\n",
       "      <td>506.000000</td>\n",
       "      <td>506.000000</td>\n",
       "      <td>506.000000</td>\n",
       "    </tr>\n",
       "    <tr>\n",
       "      <th>mean</th>\n",
       "      <td>3.613524</td>\n",
       "      <td>11.363636</td>\n",
       "      <td>11.136779</td>\n",
       "      <td>0.069170</td>\n",
       "      <td>0.554695</td>\n",
       "      <td>6.284679</td>\n",
       "      <td>68.574901</td>\n",
       "      <td>3.795043</td>\n",
       "      <td>9.549407</td>\n",
       "      <td>408.237154</td>\n",
       "      <td>18.455534</td>\n",
       "      <td>356.674032</td>\n",
       "      <td>12.653063</td>\n",
       "      <td>22.532806</td>\n",
       "    </tr>\n",
       "    <tr>\n",
       "      <th>std</th>\n",
       "      <td>8.601545</td>\n",
       "      <td>23.322453</td>\n",
       "      <td>6.860353</td>\n",
       "      <td>0.253994</td>\n",
       "      <td>0.115878</td>\n",
       "      <td>0.704057</td>\n",
       "      <td>28.148861</td>\n",
       "      <td>2.105710</td>\n",
       "      <td>8.707259</td>\n",
       "      <td>168.537116</td>\n",
       "      <td>2.164946</td>\n",
       "      <td>91.294864</td>\n",
       "      <td>7.141062</td>\n",
       "      <td>9.197104</td>\n",
       "    </tr>\n",
       "    <tr>\n",
       "      <th>min</th>\n",
       "      <td>0.006320</td>\n",
       "      <td>0.000000</td>\n",
       "      <td>0.460000</td>\n",
       "      <td>0.000000</td>\n",
       "      <td>0.385000</td>\n",
       "      <td>3.561000</td>\n",
       "      <td>2.900000</td>\n",
       "      <td>1.129600</td>\n",
       "      <td>1.000000</td>\n",
       "      <td>187.000000</td>\n",
       "      <td>12.600000</td>\n",
       "      <td>0.320000</td>\n",
       "      <td>1.730000</td>\n",
       "      <td>5.000000</td>\n",
       "    </tr>\n",
       "    <tr>\n",
       "      <th>25%</th>\n",
       "      <td>0.082045</td>\n",
       "      <td>0.000000</td>\n",
       "      <td>5.190000</td>\n",
       "      <td>0.000000</td>\n",
       "      <td>0.449000</td>\n",
       "      <td>5.885500</td>\n",
       "      <td>45.025000</td>\n",
       "      <td>2.100175</td>\n",
       "      <td>4.000000</td>\n",
       "      <td>279.000000</td>\n",
       "      <td>17.400000</td>\n",
       "      <td>375.377500</td>\n",
       "      <td>6.950000</td>\n",
       "      <td>17.025000</td>\n",
       "    </tr>\n",
       "    <tr>\n",
       "      <th>50%</th>\n",
       "      <td>0.256510</td>\n",
       "      <td>0.000000</td>\n",
       "      <td>9.690000</td>\n",
       "      <td>0.000000</td>\n",
       "      <td>0.538000</td>\n",
       "      <td>6.209000</td>\n",
       "      <td>77.500000</td>\n",
       "      <td>3.207450</td>\n",
       "      <td>5.000000</td>\n",
       "      <td>330.000000</td>\n",
       "      <td>19.050000</td>\n",
       "      <td>391.440000</td>\n",
       "      <td>11.360000</td>\n",
       "      <td>21.200000</td>\n",
       "    </tr>\n",
       "    <tr>\n",
       "      <th>75%</th>\n",
       "      <td>3.677083</td>\n",
       "      <td>12.500000</td>\n",
       "      <td>18.100000</td>\n",
       "      <td>0.000000</td>\n",
       "      <td>0.624000</td>\n",
       "      <td>6.623500</td>\n",
       "      <td>94.075000</td>\n",
       "      <td>5.188425</td>\n",
       "      <td>24.000000</td>\n",
       "      <td>666.000000</td>\n",
       "      <td>20.200000</td>\n",
       "      <td>396.225000</td>\n",
       "      <td>16.955000</td>\n",
       "      <td>25.000000</td>\n",
       "    </tr>\n",
       "    <tr>\n",
       "      <th>max</th>\n",
       "      <td>88.976200</td>\n",
       "      <td>100.000000</td>\n",
       "      <td>27.740000</td>\n",
       "      <td>1.000000</td>\n",
       "      <td>0.871000</td>\n",
       "      <td>8.780000</td>\n",
       "      <td>100.000000</td>\n",
       "      <td>12.126500</td>\n",
       "      <td>24.000000</td>\n",
       "      <td>711.000000</td>\n",
       "      <td>22.000000</td>\n",
       "      <td>396.900000</td>\n",
       "      <td>37.970000</td>\n",
       "      <td>50.000000</td>\n",
       "    </tr>\n",
       "  </tbody>\n",
       "</table>\n",
       "</div>"
      ],
      "text/plain": [
       "             CRIM          ZN       INDUS        CHAS         NOX          RM  \\\n",
       "count  506.000000  506.000000  506.000000  506.000000  506.000000  502.000000   \n",
       "mean     3.613524   11.363636   11.136779    0.069170    0.554695    6.284679   \n",
       "std      8.601545   23.322453    6.860353    0.253994    0.115878    0.704057   \n",
       "min      0.006320    0.000000    0.460000    0.000000    0.385000    3.561000   \n",
       "25%      0.082045    0.000000    5.190000    0.000000    0.449000    5.885500   \n",
       "50%      0.256510    0.000000    9.690000    0.000000    0.538000    6.209000   \n",
       "75%      3.677083   12.500000   18.100000    0.000000    0.624000    6.623500   \n",
       "max     88.976200  100.000000   27.740000    1.000000    0.871000    8.780000   \n",
       "\n",
       "              AGE         DIS         RAD         TAX    PATRATIO           B  \\\n",
       "count  506.000000  506.000000  506.000000  506.000000  506.000000  506.000000   \n",
       "mean    68.574901    3.795043    9.549407  408.237154   18.455534  356.674032   \n",
       "std     28.148861    2.105710    8.707259  168.537116    2.164946   91.294864   \n",
       "min      2.900000    1.129600    1.000000  187.000000   12.600000    0.320000   \n",
       "25%     45.025000    2.100175    4.000000  279.000000   17.400000  375.377500   \n",
       "50%     77.500000    3.207450    5.000000  330.000000   19.050000  391.440000   \n",
       "75%     94.075000    5.188425   24.000000  666.000000   20.200000  396.225000   \n",
       "max    100.000000   12.126500   24.000000  711.000000   22.000000  396.900000   \n",
       "\n",
       "            LSTAT        MEDV  \n",
       "count  506.000000  506.000000  \n",
       "mean    12.653063   22.532806  \n",
       "std      7.141062    9.197104  \n",
       "min      1.730000    5.000000  \n",
       "25%      6.950000   17.025000  \n",
       "50%     11.360000   21.200000  \n",
       "75%     16.955000   25.000000  \n",
       "max     37.970000   50.000000  "
      ]
     },
     "execution_count": 9,
     "metadata": {},
     "output_type": "execute_result"
    }
   ],
   "source": [
    "housing.describe()"
   ]
  },
  {
   "cell_type": "code",
   "execution_count": 10,
   "id": "94107987",
   "metadata": {},
   "outputs": [
    {
     "data": {
      "text/plain": [
       "0      0\n",
       "1      0\n",
       "2      0\n",
       "3      0\n",
       "4      0\n",
       "      ..\n",
       "501    0\n",
       "502    0\n",
       "503    0\n",
       "504    0\n",
       "505    0\n",
       "Name: CHAS, Length: 506, dtype: int64"
      ]
     },
     "execution_count": 10,
     "metadata": {},
     "output_type": "execute_result"
    }
   ],
   "source": [
    "housing.CHAS"
   ]
  },
  {
   "cell_type": "code",
   "execution_count": 11,
   "id": "8d2f6c4c",
   "metadata": {},
   "outputs": [
    {
     "data": {
      "text/plain": [
       "100.0    43\n",
       "95.4      4\n",
       "96.0      4\n",
       "98.2      4\n",
       "97.9      4\n",
       "         ..\n",
       "58.4      1\n",
       "74.4      1\n",
       "73.4      1\n",
       "33.1      1\n",
       "89.3      1\n",
       "Name: AGE, Length: 356, dtype: int64"
      ]
     },
     "execution_count": 11,
     "metadata": {},
     "output_type": "execute_result"
    }
   ],
   "source": [
    "housing.AGE.value_counts()"
   ]
  },
  {
   "cell_type": "markdown",
   "id": "d63feb8e",
   "metadata": {},
   "source": [
    "# Taking a look at frequency of all housing.columns in the dataframe"
   ]
  },
  {
   "cell_type": "code",
   "execution_count": 12,
   "id": "caabac78",
   "metadata": {},
   "outputs": [
    {
     "data": {
      "image/png": "[encoded data removed]",
      "text/plain": [
       "<Figure size 1440x1080 with 16 Axes>"
      ]
     },
     "metadata": {
      "needs_background": "light"
     },
     "output_type": "display_data"
    }
   ],
   "source": [
    "import matplotlib.pyplot as plt\n",
    "housing.hist(bins=50,figsize=(20,15))\n",
    "plt.show()"
   ]
  },
  {
   "cell_type": "markdown",
   "id": "a24043e6",
   "metadata": {},
   "source": [
    "# Train test splitting"
   ]
  },
  {
   "cell_type": "code",
   "execution_count": 13,
   "id": "4b872fd3",
   "metadata": {},
   "outputs": [],
   "source": [
    "def split_train_test(data,test_ratio):\n",
    "    np.random.seed(42)\n",
    "    \n",
    "    # np.random.permutation(10)\n",
    "    # array([1, 7, 4, 3, 0, 9, 2, 5, 8, 6])\n",
    "    \n",
    "    # Here, shuffled (It is a np.array) will store the permuted row number of the dataframe(data) \n",
    "    shuffled = np.random.permutation(len(data))\n",
    "    \n",
    "    test_set_size = int(len(data) * test_ratio)\n",
    "    \n",
    "    # We can take 0 to test_set_size for testing and rest are for training\n",
    "    test_indices = shuffled[:test_set_size]\n",
    "    \n",
    "    train_indices = shuffled[test_set_size:]\n",
    "    \n",
    "    return data.iloc[train_indices], data.iloc[test_indices ]"
   ]
  },
  {
   "cell_type": "code",
   "execution_count": 14,
   "id": "9d9d5ad3",
   "metadata": {},
   "outputs": [],
   "source": [
    "train_set, test_set = split_train_test(housing, 0.2)"
   ]
  },
  {
   "cell_type": "code",
   "execution_count": 15,
   "id": "f7e0b4e7",
   "metadata": {},
   "outputs": [
    {
     "name": "stdout",
     "output_type": "stream",
     "text": [
      "Rows in train set is : 405.\n",
      "Rows in test set is : 101\n"
     ]
    }
   ],
   "source": [
    "print(f\"Rows in train set is : {len(train_set)}.\\nRows in test set is : {len(test_set)}\")"
   ]
  },
  {
   "cell_type": "markdown",
   "id": "d99b8786",
   "metadata": {},
   "source": [
    "# With sklearn (This is better and easy)"
   ]
  },
  {
   "cell_type": "code",
   "execution_count": 16,
   "id": "376f6146",
   "metadata": {},
   "outputs": [
    {
     "name": "stdout",
     "output_type": "stream",
     "text": [
      "Rows in train set is : 404.\n",
      "Rows in test set is : 102\n"
     ]
    }
   ],
   "source": [
    "# sklearn me kuch function likhne ki jarurat nahi padti, isme 1 function(1 line) se hi saare splitting ho jaate hai\n",
    "# Hence, split_train_test() function defined above is of no use to us now\n",
    "from sklearn.model_selection import train_test_split\n",
    "train_set, test_set = train_test_split(housing,test_size=0.2, random_state=42)\n",
    "print(f\"Rows in train set is : {len(train_set)}.\\nRows in test set is : {len(test_set)}\")"
   ]
  },
  {
   "cell_type": "code",
   "execution_count": 17,
   "id": "7869faf0",
   "metadata": {},
   "outputs": [
    {
     "data": {
      "text/plain": [
       "\"But the problem with sklearn is that what if only 1 type of data(a column that is very important) is given in training set .\\nExample of :: If alien reaches earth he sees only indian people and he runs is ml model with that , if american blonde comes , he doesn't recognizes it at all\\nSolution of this is done with sklearn with some stratified sampling\""
      ]
     },
     "execution_count": 17,
     "metadata": {},
     "output_type": "execute_result"
    }
   ],
   "source": [
    "'''But the problem with sklearn is that what if only 1 type of data(a column that is very important) is given in training set .\n",
    "Example of :: If alien reaches earth he sees only indian people and he runs is ml model with that , if american blonde comes , he doesn't recognizes it at all\n",
    "Solution of this is done with sklearn with some stratified sampling'''"
   ]
  },
  {
   "cell_type": "code",
   "execution_count": 18,
   "id": "7e7c51db",
   "metadata": {},
   "outputs": [],
   "source": [
    "from sklearn.model_selection import StratifiedShuffleSplit\n",
    "split = StratifiedShuffleSplit(n_splits=1, test_size=0.2, random_state=42)\n",
    "for train_index, test_index in split.split(housing,housing['CHAS']):\n",
    "    # print(train_index) -> prints an np.array  \n",
    "    # print(test_index) -> prints an np.array\n",
    "    strat_train_set = housing.loc[train_index]\n",
    "    strat_test_set = housing.loc[test_index]"
   ]
  },
  {
   "cell_type": "code",
   "execution_count": 19,
   "id": "03bc7528",
   "metadata": {},
   "outputs": [
    {
     "data": {
      "text/html": [
       "<div>\n",
       "<style scoped>\n",
       "    .dataframe tbody tr th:only-of-type {\n",
       "        vertical-align: middle;\n",
       "    }\n",
       "\n",
       "    .dataframe tbody tr th {\n",
       "        vertical-align: top;\n",
       "    }\n",
       "\n",
       "    .dataframe thead th {\n",
       "        text-align: right;\n",
       "    }\n",
       "</style>\n",
       "<table border=\"1\" class=\"dataframe\">\n",
       "  <thead>\n",
       "    <tr style=\"text-align: right;\">\n",
       "      <th></th>\n",
       "      <th>CRIM</th>\n",
       "      <th>ZN</th>\n",
       "      <th>INDUS</th>\n",
       "      <th>CHAS</th>\n",
       "      <th>NOX</th>\n",
       "      <th>RM</th>\n",
       "      <th>AGE</th>\n",
       "      <th>DIS</th>\n",
       "      <th>RAD</th>\n",
       "      <th>TAX</th>\n",
       "      <th>PATRATIO</th>\n",
       "      <th>B</th>\n",
       "      <th>LSTAT</th>\n",
       "      <th>MEDV</th>\n",
       "    </tr>\n",
       "  </thead>\n",
       "  <tbody>\n",
       "    <tr>\n",
       "      <th>342</th>\n",
       "      <td>0.02498</td>\n",
       "      <td>0.0</td>\n",
       "      <td>1.89</td>\n",
       "      <td>0</td>\n",
       "      <td>0.518</td>\n",
       "      <td>6.540</td>\n",
       "      <td>59.7</td>\n",
       "      <td>6.2669</td>\n",
       "      <td>1</td>\n",
       "      <td>422</td>\n",
       "      <td>15.9</td>\n",
       "      <td>389.96</td>\n",
       "      <td>8.65</td>\n",
       "      <td>16.5</td>\n",
       "    </tr>\n",
       "    <tr>\n",
       "      <th>379</th>\n",
       "      <td>17.86670</td>\n",
       "      <td>0.0</td>\n",
       "      <td>18.10</td>\n",
       "      <td>0</td>\n",
       "      <td>0.671</td>\n",
       "      <td>6.223</td>\n",
       "      <td>100.0</td>\n",
       "      <td>1.3861</td>\n",
       "      <td>24</td>\n",
       "      <td>666</td>\n",
       "      <td>20.2</td>\n",
       "      <td>393.74</td>\n",
       "      <td>21.78</td>\n",
       "      <td>10.2</td>\n",
       "    </tr>\n",
       "    <tr>\n",
       "      <th>223</th>\n",
       "      <td>0.61470</td>\n",
       "      <td>0.0</td>\n",
       "      <td>6.20</td>\n",
       "      <td>0</td>\n",
       "      <td>0.507</td>\n",
       "      <td>6.618</td>\n",
       "      <td>80.8</td>\n",
       "      <td>3.2721</td>\n",
       "      <td>8</td>\n",
       "      <td>307</td>\n",
       "      <td>17.4</td>\n",
       "      <td>396.90</td>\n",
       "      <td>7.60</td>\n",
       "      <td>30.1</td>\n",
       "    </tr>\n",
       "    <tr>\n",
       "      <th>219</th>\n",
       "      <td>0.11425</td>\n",
       "      <td>0.0</td>\n",
       "      <td>13.89</td>\n",
       "      <td>1</td>\n",
       "      <td>0.550</td>\n",
       "      <td>6.373</td>\n",
       "      <td>92.4</td>\n",
       "      <td>3.3633</td>\n",
       "      <td>5</td>\n",
       "      <td>276</td>\n",
       "      <td>16.4</td>\n",
       "      <td>393.74</td>\n",
       "      <td>10.50</td>\n",
       "      <td>23.0</td>\n",
       "    </tr>\n",
       "    <tr>\n",
       "      <th>48</th>\n",
       "      <td>0.25387</td>\n",
       "      <td>0.0</td>\n",
       "      <td>6.91</td>\n",
       "      <td>0</td>\n",
       "      <td>0.448</td>\n",
       "      <td>5.399</td>\n",
       "      <td>95.3</td>\n",
       "      <td>5.8700</td>\n",
       "      <td>3</td>\n",
       "      <td>233</td>\n",
       "      <td>17.9</td>\n",
       "      <td>396.90</td>\n",
       "      <td>30.81</td>\n",
       "      <td>14.4</td>\n",
       "    </tr>\n",
       "    <tr>\n",
       "      <th>...</th>\n",
       "      <td>...</td>\n",
       "      <td>...</td>\n",
       "      <td>...</td>\n",
       "      <td>...</td>\n",
       "      <td>...</td>\n",
       "      <td>...</td>\n",
       "      <td>...</td>\n",
       "      <td>...</td>\n",
       "      <td>...</td>\n",
       "      <td>...</td>\n",
       "      <td>...</td>\n",
       "      <td>...</td>\n",
       "      <td>...</td>\n",
       "      <td>...</td>\n",
       "    </tr>\n",
       "    <tr>\n",
       "      <th>88</th>\n",
       "      <td>0.05660</td>\n",
       "      <td>0.0</td>\n",
       "      <td>3.41</td>\n",
       "      <td>0</td>\n",
       "      <td>0.489</td>\n",
       "      <td>7.007</td>\n",
       "      <td>86.3</td>\n",
       "      <td>3.4217</td>\n",
       "      <td>2</td>\n",
       "      <td>270</td>\n",
       "      <td>17.8</td>\n",
       "      <td>396.90</td>\n",
       "      <td>5.50</td>\n",
       "      <td>23.6</td>\n",
       "    </tr>\n",
       "    <tr>\n",
       "      <th>466</th>\n",
       "      <td>3.77498</td>\n",
       "      <td>0.0</td>\n",
       "      <td>18.10</td>\n",
       "      <td>0</td>\n",
       "      <td>0.655</td>\n",
       "      <td>5.952</td>\n",
       "      <td>84.7</td>\n",
       "      <td>2.8715</td>\n",
       "      <td>24</td>\n",
       "      <td>666</td>\n",
       "      <td>20.2</td>\n",
       "      <td>22.01</td>\n",
       "      <td>17.15</td>\n",
       "      <td>19.0</td>\n",
       "    </tr>\n",
       "    <tr>\n",
       "      <th>52</th>\n",
       "      <td>0.05360</td>\n",
       "      <td>21.0</td>\n",
       "      <td>5.64</td>\n",
       "      <td>0</td>\n",
       "      <td>0.439</td>\n",
       "      <td>6.511</td>\n",
       "      <td>21.1</td>\n",
       "      <td>6.8147</td>\n",
       "      <td>4</td>\n",
       "      <td>243</td>\n",
       "      <td>16.8</td>\n",
       "      <td>396.90</td>\n",
       "      <td>5.28</td>\n",
       "      <td>25.0</td>\n",
       "    </tr>\n",
       "    <tr>\n",
       "      <th>121</th>\n",
       "      <td>0.07165</td>\n",
       "      <td>0.0</td>\n",
       "      <td>25.65</td>\n",
       "      <td>0</td>\n",
       "      <td>0.581</td>\n",
       "      <td>6.004</td>\n",
       "      <td>84.1</td>\n",
       "      <td>2.1974</td>\n",
       "      <td>2</td>\n",
       "      <td>188</td>\n",
       "      <td>19.1</td>\n",
       "      <td>377.67</td>\n",
       "      <td>14.27</td>\n",
       "      <td>20.3</td>\n",
       "    </tr>\n",
       "    <tr>\n",
       "      <th>218</th>\n",
       "      <td>0.11069</td>\n",
       "      <td>0.0</td>\n",
       "      <td>13.89</td>\n",
       "      <td>1</td>\n",
       "      <td>0.550</td>\n",
       "      <td>5.951</td>\n",
       "      <td>93.8</td>\n",
       "      <td>2.8893</td>\n",
       "      <td>5</td>\n",
       "      <td>276</td>\n",
       "      <td>16.4</td>\n",
       "      <td>396.90</td>\n",
       "      <td>17.92</td>\n",
       "      <td>21.5</td>\n",
       "    </tr>\n",
       "  </tbody>\n",
       "</table>\n",
       "<p>102 rows × 14 columns</p>\n",
       "</div>"
      ],
      "text/plain": [
       "         CRIM    ZN  INDUS  CHAS    NOX     RM    AGE     DIS  RAD  TAX  \\\n",
       "342   0.02498   0.0   1.89     0  0.518  6.540   59.7  6.2669    1  422   \n",
       "379  17.86670   0.0  18.10     0  0.671  6.223  100.0  1.3861   24  666   \n",
       "223   0.61470   0.0   6.20     0  0.507  6.618   80.8  3.2721    8  307   \n",
       "219   0.11425   0.0  13.89     1  0.550  6.373   92.4  3.3633    5  276   \n",
       "48    0.25387   0.0   6.91     0  0.448  5.399   95.3  5.8700    3  233   \n",
       "..        ...   ...    ...   ...    ...    ...    ...     ...  ...  ...   \n",
       "88    0.05660   0.0   3.41     0  0.489  7.007   86.3  3.4217    2  270   \n",
       "466   3.77498   0.0  18.10     0  0.655  5.952   84.7  2.8715   24  666   \n",
       "52    0.05360  21.0   5.64     0  0.439  6.511   21.1  6.8147    4  243   \n",
       "121   0.07165   0.0  25.65     0  0.581  6.004   84.1  2.1974    2  188   \n",
       "218   0.11069   0.0  13.89     1  0.550  5.951   93.8  2.8893    5  276   \n",
       "\n",
       "     PATRATIO       B  LSTAT  MEDV  \n",
       "342      15.9  389.96   8.65  16.5  \n",
       "379      20.2  393.74  21.78  10.2  \n",
       "223      17.4  396.90   7.60  30.1  \n",
       "219      16.4  393.74  10.50  23.0  \n",
       "48       17.9  396.90  30.81  14.4  \n",
       "..        ...     ...    ...   ...  \n",
       "88       17.8  396.90   5.50  23.6  \n",
       "466      20.2   22.01  17.15  19.0  \n",
       "52       16.8  396.90   5.28  25.0  \n",
       "121      19.1  377.67  14.27  20.3  \n",
       "218      16.4  396.90  17.92  21.5  \n",
       "\n",
       "[102 rows x 14 columns]"
      ]
     },
     "execution_count": 19,
     "metadata": {},
     "output_type": "execute_result"
    }
   ],
   "source": [
    "strat_test_set"
   ]
  },
  {
   "cell_type": "code",
   "execution_count": 20,
   "id": "1f293fc3",
   "metadata": {},
   "outputs": [
    {
     "name": "stdout",
     "output_type": "stream",
     "text": [
      "<class 'pandas.core.frame.DataFrame'>\n",
      "Int64Index: 102 entries, 342 to 218\n",
      "Data columns (total 14 columns):\n",
      " #   Column    Non-Null Count  Dtype  \n",
      "---  ------    --------------  -----  \n",
      " 0   CRIM      102 non-null    float64\n",
      " 1   ZN        102 non-null    float64\n",
      " 2   INDUS     102 non-null    float64\n",
      " 3   CHAS      102 non-null    int64  \n",
      " 4   NOX       102 non-null    float64\n",
      " 5   RM        102 non-null    float64\n",
      " 6   AGE       102 non-null    float64\n",
      " 7   DIS       102 non-null    float64\n",
      " 8   RAD       102 non-null    int64  \n",
      " 9   TAX       102 non-null    int64  \n",
      " 10  PATRATIO  102 non-null    float64\n",
      " 11  B         102 non-null    float64\n",
      " 12  LSTAT     102 non-null    float64\n",
      " 13  MEDV      102 non-null    float64\n",
      "dtypes: float64(11), int64(3)\n",
      "memory usage: 12.0 KB\n"
     ]
    }
   ],
   "source": [
    "strat_test_set.info()"
   ]
  },
  {
   "cell_type": "code",
   "execution_count": 21,
   "id": "72143907",
   "metadata": {},
   "outputs": [
    {
     "data": {
      "text/html": [
       "<div>\n",
       "<style scoped>\n",
       "    .dataframe tbody tr th:only-of-type {\n",
       "        vertical-align: middle;\n",
       "    }\n",
       "\n",
       "    .dataframe tbody tr th {\n",
       "        vertical-align: top;\n",
       "    }\n",
       "\n",
       "    .dataframe thead th {\n",
       "        text-align: right;\n",
       "    }\n",
       "</style>\n",
       "<table border=\"1\" class=\"dataframe\">\n",
       "  <thead>\n",
       "    <tr style=\"text-align: right;\">\n",
       "      <th></th>\n",
       "      <th>CRIM</th>\n",
       "      <th>ZN</th>\n",
       "      <th>INDUS</th>\n",
       "      <th>CHAS</th>\n",
       "      <th>NOX</th>\n",
       "      <th>RM</th>\n",
       "      <th>AGE</th>\n",
       "      <th>DIS</th>\n",
       "      <th>RAD</th>\n",
       "      <th>TAX</th>\n",
       "      <th>PATRATIO</th>\n",
       "      <th>B</th>\n",
       "      <th>LSTAT</th>\n",
       "      <th>MEDV</th>\n",
       "    </tr>\n",
       "  </thead>\n",
       "  <tbody>\n",
       "    <tr>\n",
       "      <th>count</th>\n",
       "      <td>102.000000</td>\n",
       "      <td>102.000000</td>\n",
       "      <td>102.000000</td>\n",
       "      <td>102.000000</td>\n",
       "      <td>102.000000</td>\n",
       "      <td>102.000000</td>\n",
       "      <td>102.000000</td>\n",
       "      <td>102.000000</td>\n",
       "      <td>102.000000</td>\n",
       "      <td>102.000000</td>\n",
       "      <td>102.000000</td>\n",
       "      <td>102.000000</td>\n",
       "      <td>102.000000</td>\n",
       "      <td>102.000000</td>\n",
       "    </tr>\n",
       "    <tr>\n",
       "      <th>mean</th>\n",
       "      <td>3.655942</td>\n",
       "      <td>13.450980</td>\n",
       "      <td>10.312255</td>\n",
       "      <td>0.068627</td>\n",
       "      <td>0.541353</td>\n",
       "      <td>6.303353</td>\n",
       "      <td>66.733333</td>\n",
       "      <td>3.988460</td>\n",
       "      <td>8.813725</td>\n",
       "      <td>391.980392</td>\n",
       "      <td>18.385294</td>\n",
       "      <td>369.670196</td>\n",
       "      <td>12.104314</td>\n",
       "      <td>22.625490</td>\n",
       "    </tr>\n",
       "    <tr>\n",
       "      <th>std</th>\n",
       "      <td>10.400966</td>\n",
       "      <td>27.503241</td>\n",
       "      <td>6.761154</td>\n",
       "      <td>0.254068</td>\n",
       "      <td>0.111397</td>\n",
       "      <td>0.662996</td>\n",
       "      <td>27.772183</td>\n",
       "      <td>2.131247</td>\n",
       "      <td>8.614667</td>\n",
       "      <td>167.837379</td>\n",
       "      <td>2.310604</td>\n",
       "      <td>68.075774</td>\n",
       "      <td>6.759257</td>\n",
       "      <td>8.452344</td>\n",
       "    </tr>\n",
       "    <tr>\n",
       "      <th>min</th>\n",
       "      <td>0.009060</td>\n",
       "      <td>0.000000</td>\n",
       "      <td>0.460000</td>\n",
       "      <td>0.000000</td>\n",
       "      <td>0.385000</td>\n",
       "      <td>4.138000</td>\n",
       "      <td>6.500000</td>\n",
       "      <td>1.137000</td>\n",
       "      <td>1.000000</td>\n",
       "      <td>188.000000</td>\n",
       "      <td>12.600000</td>\n",
       "      <td>3.650000</td>\n",
       "      <td>2.470000</td>\n",
       "      <td>5.000000</td>\n",
       "    </tr>\n",
       "    <tr>\n",
       "      <th>25%</th>\n",
       "      <td>0.057827</td>\n",
       "      <td>0.000000</td>\n",
       "      <td>4.950000</td>\n",
       "      <td>0.000000</td>\n",
       "      <td>0.448000</td>\n",
       "      <td>5.912750</td>\n",
       "      <td>45.850000</td>\n",
       "      <td>2.223650</td>\n",
       "      <td>4.000000</td>\n",
       "      <td>270.000000</td>\n",
       "      <td>16.800000</td>\n",
       "      <td>377.685000</td>\n",
       "      <td>7.480000</td>\n",
       "      <td>18.925000</td>\n",
       "    </tr>\n",
       "    <tr>\n",
       "      <th>50%</th>\n",
       "      <td>0.176150</td>\n",
       "      <td>0.000000</td>\n",
       "      <td>7.760000</td>\n",
       "      <td>0.000000</td>\n",
       "      <td>0.515000</td>\n",
       "      <td>6.176000</td>\n",
       "      <td>71.100000</td>\n",
       "      <td>3.422950</td>\n",
       "      <td>5.000000</td>\n",
       "      <td>307.000000</td>\n",
       "      <td>19.150000</td>\n",
       "      <td>393.740000</td>\n",
       "      <td>10.565000</td>\n",
       "      <td>21.500000</td>\n",
       "    </tr>\n",
       "    <tr>\n",
       "      <th>75%</th>\n",
       "      <td>2.061955</td>\n",
       "      <td>0.000000</td>\n",
       "      <td>18.100000</td>\n",
       "      <td>0.000000</td>\n",
       "      <td>0.612750</td>\n",
       "      <td>6.539500</td>\n",
       "      <td>93.500000</td>\n",
       "      <td>5.609225</td>\n",
       "      <td>8.000000</td>\n",
       "      <td>461.000000</td>\n",
       "      <td>20.200000</td>\n",
       "      <td>396.900000</td>\n",
       "      <td>16.267500</td>\n",
       "      <td>25.000000</td>\n",
       "    </tr>\n",
       "    <tr>\n",
       "      <th>max</th>\n",
       "      <td>88.976200</td>\n",
       "      <td>90.000000</td>\n",
       "      <td>27.740000</td>\n",
       "      <td>1.000000</td>\n",
       "      <td>0.871000</td>\n",
       "      <td>8.725000</td>\n",
       "      <td>100.000000</td>\n",
       "      <td>10.585700</td>\n",
       "      <td>24.000000</td>\n",
       "      <td>711.000000</td>\n",
       "      <td>22.000000</td>\n",
       "      <td>396.900000</td>\n",
       "      <td>37.970000</td>\n",
       "      <td>50.000000</td>\n",
       "    </tr>\n",
       "  </tbody>\n",
       "</table>\n",
       "</div>"
      ],
      "text/plain": [
       "             CRIM          ZN       INDUS        CHAS         NOX          RM  \\\n",
       "count  102.000000  102.000000  102.000000  102.000000  102.000000  102.000000   \n",
       "mean     3.655942   13.450980   10.312255    0.068627    0.541353    6.303353   \n",
       "std     10.400966   27.503241    6.761154    0.254068    0.111397    0.662996   \n",
       "min      0.009060    0.000000    0.460000    0.000000    0.385000    4.138000   \n",
       "25%      0.057827    0.000000    4.950000    0.000000    0.448000    5.912750   \n",
       "50%      0.176150    0.000000    7.760000    0.000000    0.515000    6.176000   \n",
       "75%      2.061955    0.000000   18.100000    0.000000    0.612750    6.539500   \n",
       "max     88.976200   90.000000   27.740000    1.000000    0.871000    8.725000   \n",
       "\n",
       "              AGE         DIS         RAD         TAX    PATRATIO           B  \\\n",
       "count  102.000000  102.000000  102.000000  102.000000  102.000000  102.000000   \n",
       "mean    66.733333    3.988460    8.813725  391.980392   18.385294  369.670196   \n",
       "std     27.772183    2.131247    8.614667  167.837379    2.310604   68.075774   \n",
       "min      6.500000    1.137000    1.000000  188.000000   12.600000    3.650000   \n",
       "25%     45.850000    2.223650    4.000000  270.000000   16.800000  377.685000   \n",
       "50%     71.100000    3.422950    5.000000  307.000000   19.150000  393.740000   \n",
       "75%     93.500000    5.609225    8.000000  461.000000   20.200000  396.900000   \n",
       "max    100.000000   10.585700   24.000000  711.000000   22.000000  396.900000   \n",
       "\n",
       "            LSTAT        MEDV  \n",
       "count  102.000000  102.000000  \n",
       "mean    12.104314   22.625490  \n",
       "std      6.759257    8.452344  \n",
       "min      2.470000    5.000000  \n",
       "25%      7.480000   18.925000  \n",
       "50%     10.565000   21.500000  \n",
       "75%     16.267500   25.000000  \n",
       "max     37.970000   50.000000  "
      ]
     },
     "execution_count": 21,
     "metadata": {},
     "output_type": "execute_result"
    }
   ],
   "source": [
    "strat_test_set.describe()"
   ]
  },
  {
   "cell_type": "code",
   "execution_count": 22,
   "id": "547d519a",
   "metadata": {},
   "outputs": [
    {
     "data": {
      "text/plain": [
       "0    95\n",
       "1     7\n",
       "Name: CHAS, dtype: int64"
      ]
     },
     "execution_count": 22,
     "metadata": {},
     "output_type": "execute_result"
    }
   ],
   "source": [
    "strat_test_set['CHAS'].value_counts()"
   ]
  },
  {
   "cell_type": "code",
   "execution_count": 23,
   "id": "642ac9f6",
   "metadata": {},
   "outputs": [
    {
     "data": {
      "text/plain": [
       "0    376\n",
       "1     28\n",
       "Name: CHAS, dtype: int64"
      ]
     },
     "execution_count": 23,
     "metadata": {},
     "output_type": "execute_result"
    }
   ],
   "source": [
    "strat_train_set['CHAS'].value_counts()"
   ]
  },
  {
   "cell_type": "code",
   "execution_count": 24,
   "id": "b8bd56e6",
   "metadata": {},
   "outputs": [
    {
     "data": {
      "text/plain": [
       "13.571428571428571"
      ]
     },
     "execution_count": 24,
     "metadata": {},
     "output_type": "execute_result"
    }
   ],
   "source": [
    "95/7"
   ]
  },
  {
   "cell_type": "code",
   "execution_count": 25,
   "id": "c2ff7b40",
   "metadata": {},
   "outputs": [
    {
     "data": {
      "text/plain": [
       "13.428571428571429"
      ]
     },
     "execution_count": 25,
     "metadata": {},
     "output_type": "execute_result"
    }
   ],
   "source": [
    "376/28"
   ]
  },
  {
   "cell_type": "code",
   "execution_count": 26,
   "id": "a6d7ccf4",
   "metadata": {},
   "outputs": [],
   "source": [
    "housing = strat_train_set.copy()"
   ]
  },
  {
   "cell_type": "markdown",
   "id": "b506dd8c",
   "metadata": {},
   "source": [
    "# Looking for correlations"
   ]
  },
  {
   "cell_type": "code",
   "execution_count": 27,
   "id": "5b58e3c6",
   "metadata": {},
   "outputs": [],
   "source": [
    "corr_matrix = housing.corr()"
   ]
  },
  {
   "cell_type": "code",
   "execution_count": 28,
   "id": "1247c97d",
   "metadata": {},
   "outputs": [
    {
     "name": "stdout",
     "output_type": "stream",
     "text": [
      "              CRIM        ZN     INDUS      CHAS       NOX        RM  \\\n",
      "CRIM      1.000000 -0.212927  0.416640 -0.061482  0.430879 -0.258096   \n",
      "ZN       -0.212927  1.000000 -0.542161 -0.023536 -0.509327  0.292197   \n",
      "INDUS     0.416640 -0.542161  1.000000  0.043686  0.759051 -0.382350   \n",
      "CHAS     -0.061482 -0.023536  0.043686  1.000000  0.077490  0.100351   \n",
      "NOX       0.430879 -0.509327  0.759051  0.077490  1.000000 -0.299123   \n",
      "RM       -0.258096  0.292197 -0.382350  0.100351 -0.299123  1.000000   \n",
      "AGE       0.361890 -0.565680  0.644114  0.058388  0.727358 -0.242182   \n",
      "DIS      -0.386900  0.666939 -0.708612 -0.088081 -0.763623  0.202085   \n",
      "RAD       0.648221 -0.306480  0.580908 -0.023005  0.596012 -0.199415   \n",
      "TAX       0.603934 -0.322803  0.716288 -0.048802  0.659049 -0.281893   \n",
      "PATRATIO  0.305603 -0.390570  0.384465 -0.132682  0.164977 -0.330420   \n",
      "B        -0.486869  0.188575 -0.368685  0.048275 -0.408434  0.122874   \n",
      "LSTAT     0.471442 -0.420097  0.611068 -0.077592  0.602386 -0.601678   \n",
      "MEDV     -0.393715  0.339741 -0.473516  0.205066 -0.422873  0.679202   \n",
      "\n",
      "               AGE       DIS       RAD       TAX  PATRATIO         B  \\\n",
      "CRIM      0.361890 -0.386900  0.648221  0.603934  0.305603 -0.486869   \n",
      "ZN       -0.565680  0.666939 -0.306480 -0.322803 -0.390570  0.188575   \n",
      "INDUS     0.644114 -0.708612  0.580908  0.716288  0.384465 -0.368685   \n",
      "CHAS      0.058388 -0.088081 -0.023005 -0.048802 -0.132682  0.048275   \n",
      "NOX       0.727358 -0.763623  0.596012  0.659049  0.164977 -0.408434   \n",
      "RM       -0.242182  0.202085 -0.199415 -0.281893 -0.330420  0.122874   \n",
      "AGE       1.000000 -0.734827  0.449489  0.501491  0.259633 -0.287900   \n",
      "DIS      -0.734827  1.000000 -0.481556 -0.530840 -0.215173  0.309222   \n",
      "RAD       0.449489 -0.481556  1.000000  0.910932  0.471912 -0.490951   \n",
      "TAX       0.501491 -0.530840  0.910932  1.000000  0.473026 -0.475293   \n",
      "PATRATIO  0.259633 -0.215173  0.471912  0.473026  1.000000 -0.193293   \n",
      "B        -0.287900  0.309222 -0.490951 -0.475293 -0.193293  1.000000   \n",
      "LSTAT     0.599211 -0.501408  0.479857  0.534228  0.370759 -0.405799   \n",
      "MEDV     -0.364596  0.240451 -0.374693 -0.456657 -0.493534  0.361761   \n",
      "\n",
      "             LSTAT      MEDV  \n",
      "CRIM      0.471442 -0.393715  \n",
      "ZN       -0.420097  0.339741  \n",
      "INDUS     0.611068 -0.473516  \n",
      "CHAS     -0.077592  0.205066  \n",
      "NOX       0.602386 -0.422873  \n",
      "RM       -0.601678  0.679202  \n",
      "AGE       0.599211 -0.364596  \n",
      "DIS      -0.501408  0.240451  \n",
      "RAD       0.479857 -0.374693  \n",
      "TAX       0.534228 -0.456657  \n",
      "PATRATIO  0.370759 -0.493534  \n",
      "B        -0.405799  0.361761  \n",
      "LSTAT     1.000000 -0.740494  \n",
      "MEDV     -0.740494  1.000000  \n"
     ]
    }
   ],
   "source": [
    "print(corr_matrix)"
   ]
  },
  {
   "cell_type": "code",
   "execution_count": 29,
   "id": "7779ef10",
   "metadata": {},
   "outputs": [
    {
     "name": "stdout",
     "output_type": "stream",
     "text": [
      "CRIM       -0.393715\n",
      "ZN          0.339741\n",
      "INDUS      -0.473516\n",
      "CHAS        0.205066\n",
      "NOX        -0.422873\n",
      "RM          0.679202\n",
      "AGE        -0.364596\n",
      "DIS         0.240451\n",
      "RAD        -0.374693\n",
      "TAX        -0.456657\n",
      "PATRATIO   -0.493534\n",
      "B           0.361761\n",
      "LSTAT      -0.740494\n",
      "MEDV        1.000000\n",
      "Name: MEDV, dtype: float64\n"
     ]
    }
   ],
   "source": [
    "print(corr_matrix['MEDV'])"
   ]
  },
  {
   "cell_type": "code",
   "execution_count": 30,
   "id": "e16bc95e",
   "metadata": {},
   "outputs": [
    {
     "data": {
      "text/plain": [
       "MEDV        1.000000\n",
       "RM          0.679202\n",
       "B           0.361761\n",
       "ZN          0.339741\n",
       "DIS         0.240451\n",
       "CHAS        0.205066\n",
       "AGE        -0.364596\n",
       "RAD        -0.374693\n",
       "CRIM       -0.393715\n",
       "NOX        -0.422873\n",
       "TAX        -0.456657\n",
       "INDUS      -0.473516\n",
       "PATRATIO   -0.493534\n",
       "LSTAT      -0.740494\n",
       "Name: MEDV, dtype: float64"
      ]
     },
     "execution_count": 30,
     "metadata": {},
     "output_type": "execute_result"
    }
   ],
   "source": [
    "corr_matrix['MEDV'].sort_values(ascending=False)"
   ]
  },
  {
   "cell_type": "code",
   "execution_count": 31,
   "id": "7f2d68c0",
   "metadata": {},
   "outputs": [
    {
     "data": {
      "image/png": "[encoded data removed]",
      "text/plain": [
       "<Figure size 864x576 with 16 Axes>"
      ]
     },
     "metadata": {
      "needs_background": "light"
     },
     "output_type": "display_data"
    }
   ],
   "source": [
    "from pandas.plotting import scatter_matrix\n",
    "attributes = [\"MEDV\", \"RM\", \"ZN\", \"LSTAT\"]\n",
    "scatter_matrix(housing[attributes], figsize = (12,8))\n",
    "plt.show()\n",
    "# We can see that MEDV vs RM is a strong +ve correlation, meaning if RM increases MEDV too increases , same for decreasing\n",
    "# We can see that MEDV vs LSTAT is a strong -ve correlation, meaning if LSTAT increases MEDV decreases , and alter is for decreasing LSTAT."
   ]
  },
  {
   "cell_type": "code",
   "execution_count": 32,
   "id": "bb3ed300",
   "metadata": {},
   "outputs": [
    {
     "data": {
      "image/png": "[encoded data removed]",
      "text/plain": [
       "<Figure size 432x288 with 1 Axes>"
      ]
     },
     "metadata": {
      "needs_background": "light"
     },
     "output_type": "display_data"
    },
    {
     "data": {
      "image/png": "[encoded data removed]",
      "text/plain": [
       "<Figure size 432x288 with 1 Axes>"
      ]
     },
     "metadata": {
      "needs_background": "light"
     },
     "output_type": "display_data"
    },
    {
     "data": {
      "image/png": "[encoded data removed]",
      "text/plain": [
       "<Figure size 432x288 with 1 Axes>"
      ]
     },
     "metadata": {
      "needs_background": "light"
     },
     "output_type": "display_data"
    },
    {
     "data": {
      "image/png": "[encoded data removed]",
      "text/plain": [
       "<Figure size 432x288 with 1 Axes>"
      ]
     },
     "metadata": {
      "needs_background": "light"
     },
     "output_type": "display_data"
    },
    {
     "data": {
      "image/png": "[encoded data removed]",
      "text/plain": [
       "<Figure size 432x288 with 1 Axes>"
      ]
     },
     "metadata": {
      "needs_background": "light"
     },
     "output_type": "display_data"
    },
    {
     "data": {
      "image/png": "[encoded data removed]",
      "text/plain": [
       "<Figure size 432x288 with 1 Axes>"
      ]
     },
     "metadata": {
      "needs_background": "light"
     },
     "output_type": "display_data"
    },
    {
     "data": {
      "image/png": "[encoded data removed]",
      "text/plain": [
       "<Figure size 432x288 with 1 Axes>"
      ]
     },
     "metadata": {
      "needs_background": "light"
     },
     "output_type": "display_data"
    },
    {
     "data": {
      "image/png": "[encoded data removed]",
      "text/plain": [
       "<Figure size 432x288 with 1 Axes>"
      ]
     },
     "metadata": {
      "needs_background": "light"
     },
     "output_type": "display_data"
    },
    {
     "data": {
      "image/png": "[encoded data removed]",
      "text/plain": [
       "<Figure size 432x288 with 1 Axes>"
      ]
     },
     "metadata": {
      "needs_background": "light"
     },
     "output_type": "display_data"
    },
    {
     "data": {
      "image/png": "[encoded data removed]",
      "text/plain": [
       "<Figure size 432x288 with 1 Axes>"
      ]
     },
     "metadata": {
      "needs_background": "light"
     },
     "output_type": "display_data"
    },
    {
     "data": {
      "image/png": "[encoded data removed]",
      "text/plain": [
       "<Figure size 432x288 with 1 Axes>"
      ]
     },
     "metadata": {
      "needs_background": "light"
     },
     "output_type": "display_data"
    },
    {
     "data": {
      "image/png": "[encoded data removed]",
      "text/plain": [
       "<Figure size 432x288 with 1 Axes>"
      ]
     },
     "metadata": {
      "needs_background": "light"
     },
     "output_type": "display_data"
    },
    {
     "data": {
      "image/png": "[encoded data removed]",
      "text/plain": [
       "<Figure size 432x288 with 1 Axes>"
      ]
     },
     "metadata": {
      "needs_background": "light"
     },
     "output_type": "display_data"
    },
    {
     "data": {
      "image/png": "[encoded data removed]",
      "text/plain": [
       "<Figure size 432x288 with 1 Axes>"
      ]
     },
     "metadata": {
      "needs_background": "light"
     },
     "output_type": "display_data"
    },
    {
     "data": {
      "image/png": "[encoded data removed]",
      "text/plain": [
       "<Figure size 432x288 with 1 Axes>"
      ]
     },
     "metadata": {
      "needs_background": "light"
     },
     "output_type": "display_data"
    },
    {
     "data": {
      "image/png": "[encoded data removed]",
      "text/plain": [
       "<Figure size 432x288 with 1 Axes>"
      ]
     },
     "metadata": {
      "needs_background": "light"
     },
     "output_type": "display_data"
    }
   ],
   "source": [
    "\n",
    "# This is your updated matplotlib method to see graph\n",
    "attributes = [\"MEDV\", \"RM\", \"ZN\", \"LSTAT\"]\n",
    "\n",
    "for i in range(0, 4):\n",
    "    Y = attributes[i]\n",
    "    for j in range(0, 4):\n",
    "        X = attributes[j]\n",
    "        plt.scatter(housing[X], housing[Y])\n",
    "        plt.xlabel(X)\n",
    "        plt.ylabel(Y)\n",
    "        plt.show()\n",
    "        "
   ]
  },
  {
   "cell_type": "code",
   "execution_count": 33,
   "id": "d6ae7430",
   "metadata": {},
   "outputs": [
    {
     "data": {
      "image/png": "[encoded data removed]",
      "text/plain": [
       "<Figure size 432x288 with 1 Axes>"
      ]
     },
     "metadata": {
      "needs_background": "light"
     },
     "output_type": "display_data"
    }
   ],
   "source": [
    "housing.plot(kind=\"scatter\", x=\"RM\", y=\"MEDV\", alpha = 0.8)\n",
    "plt.show()\n",
    "# This shows strong +ve correlation"
   ]
  },
  {
   "cell_type": "code",
   "execution_count": 34,
   "id": "66271689",
   "metadata": {},
   "outputs": [
    {
     "data": {
      "image/png": "[encoded data removed]",
      "text/plain": [
       "<Figure size 432x288 with 1 Axes>"
      ]
     },
     "metadata": {
      "needs_background": "light"
     },
     "output_type": "display_data"
    }
   ],
   "source": [
    "# Another matplotlib method is this\n",
    "plt.scatter(housing['RM'], housing['MEDV'])\n",
    "plt.show()\n",
    "# This shows strong +ve correlation"
   ]
  },
  {
   "cell_type": "markdown",
   "id": "26d37010",
   "metadata": {},
   "source": [
    "# Trying out attribute combinations"
   ]
  },
  {
   "cell_type": "code",
   "execution_count": 35,
   "id": "52c4f8dc",
   "metadata": {},
   "outputs": [],
   "source": [
    "# Tax per Room is added as an attribute \n",
    "housing['TaxRM'] = housing['TAX']/housing['RM']"
   ]
  },
  {
   "cell_type": "code",
   "execution_count": 36,
   "id": "46e04bb0",
   "metadata": {},
   "outputs": [
    {
     "data": {
      "text/plain": [
       "254     51.571709\n",
       "348     42.200452\n",
       "476    102.714374\n",
       "321     45.012547\n",
       "326     45.468948\n",
       "          ...    \n",
       "155     65.507152\n",
       "423    109.126659\n",
       "98      35.294118\n",
       "455    102.068966\n",
       "216     46.875000\n",
       "Name: TaxRM, Length: 404, dtype: float64"
      ]
     },
     "execution_count": 36,
     "metadata": {},
     "output_type": "execute_result"
    }
   ],
   "source": [
    "housing['TaxRM']"
   ]
  },
  {
   "cell_type": "code",
   "execution_count": 37,
   "id": "1a2345c8",
   "metadata": {},
   "outputs": [
    {
     "data": {
      "text/html": [
       "<div>\n",
       "<style scoped>\n",
       "    .dataframe tbody tr th:only-of-type {\n",
       "        vertical-align: middle;\n",
       "    }\n",
       "\n",
       "    .dataframe tbody tr th {\n",
       "        vertical-align: top;\n",
       "    }\n",
       "\n",
       "    .dataframe thead th {\n",
       "        text-align: right;\n",
       "    }\n",
       "</style>\n",
       "<table border=\"1\" class=\"dataframe\">\n",
       "  <thead>\n",
       "    <tr style=\"text-align: right;\">\n",
       "      <th></th>\n",
       "      <th>CRIM</th>\n",
       "      <th>ZN</th>\n",
       "      <th>INDUS</th>\n",
       "      <th>CHAS</th>\n",
       "      <th>NOX</th>\n",
       "      <th>RM</th>\n",
       "      <th>AGE</th>\n",
       "      <th>DIS</th>\n",
       "      <th>RAD</th>\n",
       "      <th>TAX</th>\n",
       "      <th>PATRATIO</th>\n",
       "      <th>B</th>\n",
       "      <th>LSTAT</th>\n",
       "      <th>MEDV</th>\n",
       "      <th>TaxRM</th>\n",
       "    </tr>\n",
       "  </thead>\n",
       "  <tbody>\n",
       "    <tr>\n",
       "      <th>254</th>\n",
       "      <td>0.04819</td>\n",
       "      <td>80.0</td>\n",
       "      <td>3.64</td>\n",
       "      <td>0</td>\n",
       "      <td>0.392</td>\n",
       "      <td>6.108</td>\n",
       "      <td>32.0</td>\n",
       "      <td>9.2203</td>\n",
       "      <td>1</td>\n",
       "      <td>315</td>\n",
       "      <td>16.4</td>\n",
       "      <td>392.89</td>\n",
       "      <td>6.57</td>\n",
       "      <td>21.9</td>\n",
       "      <td>51.571709</td>\n",
       "    </tr>\n",
       "    <tr>\n",
       "      <th>348</th>\n",
       "      <td>0.01501</td>\n",
       "      <td>80.0</td>\n",
       "      <td>2.01</td>\n",
       "      <td>0</td>\n",
       "      <td>0.435</td>\n",
       "      <td>6.635</td>\n",
       "      <td>29.7</td>\n",
       "      <td>8.3440</td>\n",
       "      <td>4</td>\n",
       "      <td>280</td>\n",
       "      <td>17.0</td>\n",
       "      <td>390.94</td>\n",
       "      <td>5.99</td>\n",
       "      <td>24.5</td>\n",
       "      <td>42.200452</td>\n",
       "    </tr>\n",
       "    <tr>\n",
       "      <th>476</th>\n",
       "      <td>4.87141</td>\n",
       "      <td>0.0</td>\n",
       "      <td>18.10</td>\n",
       "      <td>0</td>\n",
       "      <td>0.614</td>\n",
       "      <td>6.484</td>\n",
       "      <td>93.6</td>\n",
       "      <td>2.3053</td>\n",
       "      <td>24</td>\n",
       "      <td>666</td>\n",
       "      <td>20.2</td>\n",
       "      <td>396.21</td>\n",
       "      <td>18.68</td>\n",
       "      <td>16.7</td>\n",
       "      <td>102.714374</td>\n",
       "    </tr>\n",
       "    <tr>\n",
       "      <th>321</th>\n",
       "      <td>0.18159</td>\n",
       "      <td>0.0</td>\n",
       "      <td>7.38</td>\n",
       "      <td>0</td>\n",
       "      <td>0.493</td>\n",
       "      <td>6.376</td>\n",
       "      <td>54.3</td>\n",
       "      <td>4.5404</td>\n",
       "      <td>5</td>\n",
       "      <td>287</td>\n",
       "      <td>19.6</td>\n",
       "      <td>396.90</td>\n",
       "      <td>6.87</td>\n",
       "      <td>23.1</td>\n",
       "      <td>45.012547</td>\n",
       "    </tr>\n",
       "    <tr>\n",
       "      <th>326</th>\n",
       "      <td>0.30347</td>\n",
       "      <td>0.0</td>\n",
       "      <td>7.38</td>\n",
       "      <td>0</td>\n",
       "      <td>0.493</td>\n",
       "      <td>6.312</td>\n",
       "      <td>28.9</td>\n",
       "      <td>5.4159</td>\n",
       "      <td>5</td>\n",
       "      <td>287</td>\n",
       "      <td>19.6</td>\n",
       "      <td>396.90</td>\n",
       "      <td>6.15</td>\n",
       "      <td>23.0</td>\n",
       "      <td>45.468948</td>\n",
       "    </tr>\n",
       "  </tbody>\n",
       "</table>\n",
       "</div>"
      ],
      "text/plain": [
       "        CRIM    ZN  INDUS  CHAS    NOX     RM   AGE     DIS  RAD  TAX  \\\n",
       "254  0.04819  80.0   3.64     0  0.392  6.108  32.0  9.2203    1  315   \n",
       "348  0.01501  80.0   2.01     0  0.435  6.635  29.7  8.3440    4  280   \n",
       "476  4.87141   0.0  18.10     0  0.614  6.484  93.6  2.3053   24  666   \n",
       "321  0.18159   0.0   7.38     0  0.493  6.376  54.3  4.5404    5  287   \n",
       "326  0.30347   0.0   7.38     0  0.493  6.312  28.9  5.4159    5  287   \n",
       "\n",
       "     PATRATIO       B  LSTAT  MEDV       TaxRM  \n",
       "254      16.4  392.89   6.57  21.9   51.571709  \n",
       "348      17.0  390.94   5.99  24.5   42.200452  \n",
       "476      20.2  396.21  18.68  16.7  102.714374  \n",
       "321      19.6  396.90   6.87  23.1   45.012547  \n",
       "326      19.6  396.90   6.15  23.0   45.468948  "
      ]
     },
     "execution_count": 37,
     "metadata": {},
     "output_type": "execute_result"
    }
   ],
   "source": [
    "housing.head()"
   ]
  },
  {
   "cell_type": "code",
   "execution_count": 38,
   "id": "e1d59ce4",
   "metadata": {},
   "outputs": [
    {
     "data": {
      "text/plain": [
       "MEDV        1.000000\n",
       "RM          0.679202\n",
       "B           0.361761\n",
       "ZN          0.339741\n",
       "DIS         0.240451\n",
       "CHAS        0.205066\n",
       "AGE        -0.364596\n",
       "RAD        -0.374693\n",
       "CRIM       -0.393715\n",
       "NOX        -0.422873\n",
       "TAX        -0.456657\n",
       "INDUS      -0.473516\n",
       "PATRATIO   -0.493534\n",
       "TaxRM      -0.524864\n",
       "LSTAT      -0.740494\n",
       "Name: MEDV, dtype: float64"
      ]
     },
     "execution_count": 38,
     "metadata": {},
     "output_type": "execute_result"
    }
   ],
   "source": [
    "corr_matrix = housing.corr()\n",
    "corr_matrix['MEDV'].sort_values(ascending=False)"
   ]
  },
  {
   "cell_type": "code",
   "execution_count": 39,
   "id": "c13ea49b",
   "metadata": {},
   "outputs": [
    {
     "data": {
      "text/plain": [
       "[]"
      ]
     },
     "execution_count": 39,
     "metadata": {},
     "output_type": "execute_result"
    },
    {
     "data": {
      "image/png": "[encoded data removed]",
      "text/plain": [
       "<Figure size 432x288 with 1 Axes>"
      ]
     },
     "metadata": {
      "needs_background": "light"
     },
     "output_type": "display_data"
    }
   ],
   "source": [
    "housing.plot(kind=\"scatter\", x=\"TaxRM\", y=\"MEDV\", alpha = 0.8)\n",
    "plt.plot()"
   ]
  },
  {
   "cell_type": "code",
   "execution_count": 40,
   "id": "80d8ef2e",
   "metadata": {},
   "outputs": [
    {
     "data": {
      "text/plain": [
       "[]"
      ]
     },
     "execution_count": 40,
     "metadata": {},
     "output_type": "execute_result"
    },
    {
     "data": {
      "image/png": "[encoded data removed]",
      "text/plain": [
       "<Figure size 432x288 with 1 Axes>"
      ]
     },
     "metadata": {
      "needs_background": "light"
     },
     "output_type": "display_data"
    }
   ],
   "source": [
    "plt.scatter(housing.TaxRM, housing.MEDV)\n",
    "plt.plot()"
   ]
  },
  {
   "cell_type": "code",
   "execution_count": 41,
   "id": "4d543a93",
   "metadata": {},
   "outputs": [],
   "source": [
    "housing = strat_train_set.drop(\"MEDV\", axis = 1)\n",
    "housing_labels = strat_train_set[\"MEDV\"].copy()"
   ]
  },
  {
   "cell_type": "markdown",
   "id": "eb10ec99",
   "metadata": {},
   "source": [
    "# Missing attributes"
   ]
  },
  {
   "cell_type": "code",
   "execution_count": 42,
   "id": "378f28c5",
   "metadata": {},
   "outputs": [],
   "source": [
    "# To take care of missing values, we have three options:\n",
    "#     1. Get rid of the missing data points\n",
    "#     2. Get rid of the whole attribute\n",
    "#     3. Set the value to some value (0, mean or median)"
   ]
  },
  {
   "cell_type": "code",
   "execution_count": 43,
   "id": "621ec243",
   "metadata": {},
   "outputs": [],
   "source": [
    "# 1 and 2 methods are not good or optimal and is not used\n",
    "# we use 3rd method"
   ]
  },
  {
   "cell_type": "code",
   "execution_count": 44,
   "id": "54eaba0c",
   "metadata": {},
   "outputs": [
    {
     "data": {
      "text/plain": [
       "(400, 13)"
      ]
     },
     "execution_count": 44,
     "metadata": {},
     "output_type": "execute_result"
    }
   ],
   "source": [
    "a = housing.dropna(subset=[\"RM\"]) # option 1\n",
    "a.shape\n",
    "# Note, that original housing data_frame will remain unchanged"
   ]
  },
  {
   "cell_type": "code",
   "execution_count": 45,
   "id": "8ae3fe4e",
   "metadata": {},
   "outputs": [
    {
     "data": {
      "text/html": [
       "<div>\n",
       "<style scoped>\n",
       "    .dataframe tbody tr th:only-of-type {\n",
       "        vertical-align: middle;\n",
       "    }\n",
       "\n",
       "    .dataframe tbody tr th {\n",
       "        vertical-align: top;\n",
       "    }\n",
       "\n",
       "    .dataframe thead th {\n",
       "        text-align: right;\n",
       "    }\n",
       "</style>\n",
       "<table border=\"1\" class=\"dataframe\">\n",
       "  <thead>\n",
       "    <tr style=\"text-align: right;\">\n",
       "      <th></th>\n",
       "      <th>CRIM</th>\n",
       "      <th>ZN</th>\n",
       "      <th>INDUS</th>\n",
       "      <th>CHAS</th>\n",
       "      <th>NOX</th>\n",
       "      <th>AGE</th>\n",
       "      <th>DIS</th>\n",
       "      <th>RAD</th>\n",
       "      <th>TAX</th>\n",
       "      <th>PATRATIO</th>\n",
       "      <th>B</th>\n",
       "      <th>LSTAT</th>\n",
       "    </tr>\n",
       "  </thead>\n",
       "  <tbody>\n",
       "    <tr>\n",
       "      <th>254</th>\n",
       "      <td>0.04819</td>\n",
       "      <td>80.0</td>\n",
       "      <td>3.64</td>\n",
       "      <td>0</td>\n",
       "      <td>0.392</td>\n",
       "      <td>32.0</td>\n",
       "      <td>9.2203</td>\n",
       "      <td>1</td>\n",
       "      <td>315</td>\n",
       "      <td>16.4</td>\n",
       "      <td>392.89</td>\n",
       "      <td>6.57</td>\n",
       "    </tr>\n",
       "    <tr>\n",
       "      <th>348</th>\n",
       "      <td>0.01501</td>\n",
       "      <td>80.0</td>\n",
       "      <td>2.01</td>\n",
       "      <td>0</td>\n",
       "      <td>0.435</td>\n",
       "      <td>29.7</td>\n",
       "      <td>8.3440</td>\n",
       "      <td>4</td>\n",
       "      <td>280</td>\n",
       "      <td>17.0</td>\n",
       "      <td>390.94</td>\n",
       "      <td>5.99</td>\n",
       "    </tr>\n",
       "    <tr>\n",
       "      <th>476</th>\n",
       "      <td>4.87141</td>\n",
       "      <td>0.0</td>\n",
       "      <td>18.10</td>\n",
       "      <td>0</td>\n",
       "      <td>0.614</td>\n",
       "      <td>93.6</td>\n",
       "      <td>2.3053</td>\n",
       "      <td>24</td>\n",
       "      <td>666</td>\n",
       "      <td>20.2</td>\n",
       "      <td>396.21</td>\n",
       "      <td>18.68</td>\n",
       "    </tr>\n",
       "    <tr>\n",
       "      <th>321</th>\n",
       "      <td>0.18159</td>\n",
       "      <td>0.0</td>\n",
       "      <td>7.38</td>\n",
       "      <td>0</td>\n",
       "      <td>0.493</td>\n",
       "      <td>54.3</td>\n",
       "      <td>4.5404</td>\n",
       "      <td>5</td>\n",
       "      <td>287</td>\n",
       "      <td>19.6</td>\n",
       "      <td>396.90</td>\n",
       "      <td>6.87</td>\n",
       "    </tr>\n",
       "    <tr>\n",
       "      <th>326</th>\n",
       "      <td>0.30347</td>\n",
       "      <td>0.0</td>\n",
       "      <td>7.38</td>\n",
       "      <td>0</td>\n",
       "      <td>0.493</td>\n",
       "      <td>28.9</td>\n",
       "      <td>5.4159</td>\n",
       "      <td>5</td>\n",
       "      <td>287</td>\n",
       "      <td>19.6</td>\n",
       "      <td>396.90</td>\n",
       "      <td>6.15</td>\n",
       "    </tr>\n",
       "    <tr>\n",
       "      <th>...</th>\n",
       "      <td>...</td>\n",
       "      <td>...</td>\n",
       "      <td>...</td>\n",
       "      <td>...</td>\n",
       "      <td>...</td>\n",
       "      <td>...</td>\n",
       "      <td>...</td>\n",
       "      <td>...</td>\n",
       "      <td>...</td>\n",
       "      <td>...</td>\n",
       "      <td>...</td>\n",
       "      <td>...</td>\n",
       "    </tr>\n",
       "    <tr>\n",
       "      <th>155</th>\n",
       "      <td>3.53501</td>\n",
       "      <td>0.0</td>\n",
       "      <td>19.58</td>\n",
       "      <td>1</td>\n",
       "      <td>0.871</td>\n",
       "      <td>82.6</td>\n",
       "      <td>1.7455</td>\n",
       "      <td>5</td>\n",
       "      <td>403</td>\n",
       "      <td>14.7</td>\n",
       "      <td>88.01</td>\n",
       "      <td>15.02</td>\n",
       "    </tr>\n",
       "    <tr>\n",
       "      <th>423</th>\n",
       "      <td>7.05042</td>\n",
       "      <td>0.0</td>\n",
       "      <td>18.10</td>\n",
       "      <td>0</td>\n",
       "      <td>0.614</td>\n",
       "      <td>85.1</td>\n",
       "      <td>2.0218</td>\n",
       "      <td>24</td>\n",
       "      <td>666</td>\n",
       "      <td>20.2</td>\n",
       "      <td>2.52</td>\n",
       "      <td>23.29</td>\n",
       "    </tr>\n",
       "    <tr>\n",
       "      <th>98</th>\n",
       "      <td>0.08187</td>\n",
       "      <td>0.0</td>\n",
       "      <td>2.89</td>\n",
       "      <td>0</td>\n",
       "      <td>0.445</td>\n",
       "      <td>36.9</td>\n",
       "      <td>3.4952</td>\n",
       "      <td>2</td>\n",
       "      <td>276</td>\n",
       "      <td>18.0</td>\n",
       "      <td>393.53</td>\n",
       "      <td>3.57</td>\n",
       "    </tr>\n",
       "    <tr>\n",
       "      <th>455</th>\n",
       "      <td>4.75237</td>\n",
       "      <td>0.0</td>\n",
       "      <td>18.10</td>\n",
       "      <td>0</td>\n",
       "      <td>0.713</td>\n",
       "      <td>86.5</td>\n",
       "      <td>2.4358</td>\n",
       "      <td>24</td>\n",
       "      <td>666</td>\n",
       "      <td>20.2</td>\n",
       "      <td>50.92</td>\n",
       "      <td>18.13</td>\n",
       "    </tr>\n",
       "    <tr>\n",
       "      <th>216</th>\n",
       "      <td>0.04560</td>\n",
       "      <td>0.0</td>\n",
       "      <td>13.89</td>\n",
       "      <td>1</td>\n",
       "      <td>0.550</td>\n",
       "      <td>56.0</td>\n",
       "      <td>3.1121</td>\n",
       "      <td>5</td>\n",
       "      <td>276</td>\n",
       "      <td>16.4</td>\n",
       "      <td>392.80</td>\n",
       "      <td>13.51</td>\n",
       "    </tr>\n",
       "  </tbody>\n",
       "</table>\n",
       "<p>404 rows × 12 columns</p>\n",
       "</div>"
      ],
      "text/plain": [
       "        CRIM    ZN  INDUS  CHAS    NOX   AGE     DIS  RAD  TAX  PATRATIO  \\\n",
       "254  0.04819  80.0   3.64     0  0.392  32.0  9.2203    1  315      16.4   \n",
       "348  0.01501  80.0   2.01     0  0.435  29.7  8.3440    4  280      17.0   \n",
       "476  4.87141   0.0  18.10     0  0.614  93.6  2.3053   24  666      20.2   \n",
       "321  0.18159   0.0   7.38     0  0.493  54.3  4.5404    5  287      19.6   \n",
       "326  0.30347   0.0   7.38     0  0.493  28.9  5.4159    5  287      19.6   \n",
       "..       ...   ...    ...   ...    ...   ...     ...  ...  ...       ...   \n",
       "155  3.53501   0.0  19.58     1  0.871  82.6  1.7455    5  403      14.7   \n",
       "423  7.05042   0.0  18.10     0  0.614  85.1  2.0218   24  666      20.2   \n",
       "98   0.08187   0.0   2.89     0  0.445  36.9  3.4952    2  276      18.0   \n",
       "455  4.75237   0.0  18.10     0  0.713  86.5  2.4358   24  666      20.2   \n",
       "216  0.04560   0.0  13.89     1  0.550  56.0  3.1121    5  276      16.4   \n",
       "\n",
       "          B  LSTAT  \n",
       "254  392.89   6.57  \n",
       "348  390.94   5.99  \n",
       "476  396.21  18.68  \n",
       "321  396.90   6.87  \n",
       "326  396.90   6.15  \n",
       "..      ...    ...  \n",
       "155   88.01  15.02  \n",
       "423    2.52  23.29  \n",
       "98   393.53   3.57  \n",
       "455   50.92  18.13  \n",
       "216  392.80  13.51  \n",
       "\n",
       "[404 rows x 12 columns]"
      ]
     },
     "execution_count": 45,
     "metadata": {},
     "output_type": "execute_result"
    }
   ],
   "source": [
    "housing.drop(\"RM\", axis=1) # option 2\n",
    "# Now, there will be no \"RM\" column\n",
    "# Note, that original housing data_frame will remain unchanged"
   ]
  },
  {
   "cell_type": "code",
   "execution_count": 46,
   "id": "140a5eb4",
   "metadata": {},
   "outputs": [],
   "source": [
    "median = housing[\"RM\"].median() # compute median for option 3"
   ]
  },
  {
   "cell_type": "code",
   "execution_count": 47,
   "id": "a4b34c43",
   "metadata": {},
   "outputs": [
    {
     "data": {
      "text/plain": [
       "6.2135"
      ]
     },
     "execution_count": 47,
     "metadata": {},
     "output_type": "execute_result"
    }
   ],
   "source": [
    "median"
   ]
  },
  {
   "cell_type": "code",
   "execution_count": 48,
   "id": "8e055848",
   "metadata": {},
   "outputs": [
    {
     "data": {
      "text/plain": [
       "254    6.108\n",
       "348    6.635\n",
       "476    6.484\n",
       "321    6.376\n",
       "326    6.312\n",
       "       ...  \n",
       "155    6.152\n",
       "423    6.103\n",
       "98     7.820\n",
       "455    6.525\n",
       "216    5.888\n",
       "Name: RM, Length: 404, dtype: float64"
      ]
     },
     "execution_count": 48,
     "metadata": {},
     "output_type": "execute_result"
    }
   ],
   "source": [
    "housing[\"RM\"].fillna(median) # option 3\n",
    "# Note, that original housing data_frame will remain unchanged"
   ]
  },
  {
   "cell_type": "code",
   "execution_count": 49,
   "id": "cdc6be18",
   "metadata": {},
   "outputs": [
    {
     "data": {
      "text/plain": [
       "SimpleImputer(strategy='median')"
      ]
     },
     "execution_count": 49,
     "metadata": {},
     "output_type": "execute_result"
    }
   ],
   "source": [
    "# In sklearn, we have a SimpleImputer method which calculates median of all the columns in the dataset,\n",
    "# If any values are missing from the dataset we can use it directly, we don't have to\n",
    "# fit values of NA like housing[\"  \"].fillna(median) for all of the missing values in any columns\n",
    "from sklearn.impute import SimpleImputer\n",
    "imputer = SimpleImputer(strategy=\"median\")\n",
    "imputer.fit(housing)"
   ]
  },
  {
   "cell_type": "code",
   "execution_count": 50,
   "id": "b0c28a70",
   "metadata": {},
   "outputs": [
    {
     "data": {
      "text/plain": [
       "array([2.86735e-01, 0.00000e+00, 9.90000e+00, 0.00000e+00, 5.38000e-01,\n",
       "       6.21350e+00, 7.82000e+01, 3.12220e+00, 5.00000e+00, 3.37000e+02,\n",
       "       1.90000e+01, 3.90955e+02, 1.15700e+01])"
      ]
     },
     "execution_count": 50,
     "metadata": {},
     "output_type": "execute_result"
    }
   ],
   "source": [
    "imputer.statistics_"
   ]
  },
  {
   "cell_type": "code",
   "execution_count": 51,
   "id": "c7dd9ff3",
   "metadata": {},
   "outputs": [
    {
     "data": {
      "text/plain": [
       "(13,)"
      ]
     },
     "execution_count": 51,
     "metadata": {},
     "output_type": "execute_result"
    }
   ],
   "source": [
    "imputer.statistics_.shape"
   ]
  },
  {
   "cell_type": "code",
   "execution_count": 52,
   "id": "5171d7f4",
   "metadata": {},
   "outputs": [],
   "source": [
    "# X is a numpy array, returned from transform function\n",
    "X = imputer.transform(housing)"
   ]
  },
  {
   "cell_type": "code",
   "execution_count": 53,
   "id": "3efabd45",
   "metadata": {},
   "outputs": [],
   "source": [
    "housing_tr = pd.DataFrame(X, columns = housing.columns) "
   ]
  },
  {
   "cell_type": "code",
   "execution_count": 54,
   "id": "b664b905",
   "metadata": {},
   "outputs": [
    {
     "data": {
      "text/html": [
       "<div>\n",
       "<style scoped>\n",
       "    .dataframe tbody tr th:only-of-type {\n",
       "        vertical-align: middle;\n",
       "    }\n",
       "\n",
       "    .dataframe tbody tr th {\n",
       "        vertical-align: top;\n",
       "    }\n",
       "\n",
       "    .dataframe thead th {\n",
       "        text-align: right;\n",
       "    }\n",
       "</style>\n",
       "<table border=\"1\" class=\"dataframe\">\n",
       "  <thead>\n",
       "    <tr style=\"text-align: right;\">\n",
       "      <th></th>\n",
       "      <th>CRIM</th>\n",
       "      <th>ZN</th>\n",
       "      <th>INDUS</th>\n",
       "      <th>CHAS</th>\n",
       "      <th>NOX</th>\n",
       "      <th>RM</th>\n",
       "      <th>AGE</th>\n",
       "      <th>DIS</th>\n",
       "      <th>RAD</th>\n",
       "      <th>TAX</th>\n",
       "      <th>PATRATIO</th>\n",
       "      <th>B</th>\n",
       "      <th>LSTAT</th>\n",
       "    </tr>\n",
       "  </thead>\n",
       "  <tbody>\n",
       "    <tr>\n",
       "      <th>count</th>\n",
       "      <td>404.000000</td>\n",
       "      <td>404.000000</td>\n",
       "      <td>404.000000</td>\n",
       "      <td>404.000000</td>\n",
       "      <td>404.000000</td>\n",
       "      <td>404.000000</td>\n",
       "      <td>404.000000</td>\n",
       "      <td>404.000000</td>\n",
       "      <td>404.000000</td>\n",
       "      <td>404.000000</td>\n",
       "      <td>404.000000</td>\n",
       "      <td>404.000000</td>\n",
       "      <td>404.000000</td>\n",
       "    </tr>\n",
       "    <tr>\n",
       "      <th>mean</th>\n",
       "      <td>3.602814</td>\n",
       "      <td>10.836634</td>\n",
       "      <td>11.344950</td>\n",
       "      <td>0.069307</td>\n",
       "      <td>0.558064</td>\n",
       "      <td>6.279260</td>\n",
       "      <td>69.039851</td>\n",
       "      <td>3.746210</td>\n",
       "      <td>9.735149</td>\n",
       "      <td>412.341584</td>\n",
       "      <td>18.473267</td>\n",
       "      <td>353.392822</td>\n",
       "      <td>12.791609</td>\n",
       "    </tr>\n",
       "    <tr>\n",
       "      <th>std</th>\n",
       "      <td>8.099383</td>\n",
       "      <td>22.150636</td>\n",
       "      <td>6.877817</td>\n",
       "      <td>0.254290</td>\n",
       "      <td>0.116875</td>\n",
       "      <td>0.711342</td>\n",
       "      <td>28.258248</td>\n",
       "      <td>2.099057</td>\n",
       "      <td>8.731259</td>\n",
       "      <td>168.672623</td>\n",
       "      <td>2.129243</td>\n",
       "      <td>96.069235</td>\n",
       "      <td>7.235740</td>\n",
       "    </tr>\n",
       "    <tr>\n",
       "      <th>min</th>\n",
       "      <td>0.006320</td>\n",
       "      <td>0.000000</td>\n",
       "      <td>0.740000</td>\n",
       "      <td>0.000000</td>\n",
       "      <td>0.389000</td>\n",
       "      <td>3.561000</td>\n",
       "      <td>2.900000</td>\n",
       "      <td>1.129600</td>\n",
       "      <td>1.000000</td>\n",
       "      <td>187.000000</td>\n",
       "      <td>13.000000</td>\n",
       "      <td>0.320000</td>\n",
       "      <td>1.730000</td>\n",
       "    </tr>\n",
       "    <tr>\n",
       "      <th>25%</th>\n",
       "      <td>0.086962</td>\n",
       "      <td>0.000000</td>\n",
       "      <td>5.190000</td>\n",
       "      <td>0.000000</td>\n",
       "      <td>0.453000</td>\n",
       "      <td>5.879750</td>\n",
       "      <td>44.850000</td>\n",
       "      <td>2.035975</td>\n",
       "      <td>4.000000</td>\n",
       "      <td>284.000000</td>\n",
       "      <td>17.400000</td>\n",
       "      <td>374.617500</td>\n",
       "      <td>6.847500</td>\n",
       "    </tr>\n",
       "    <tr>\n",
       "      <th>50%</th>\n",
       "      <td>0.286735</td>\n",
       "      <td>0.000000</td>\n",
       "      <td>9.900000</td>\n",
       "      <td>0.000000</td>\n",
       "      <td>0.538000</td>\n",
       "      <td>6.213500</td>\n",
       "      <td>78.200000</td>\n",
       "      <td>3.122200</td>\n",
       "      <td>5.000000</td>\n",
       "      <td>337.000000</td>\n",
       "      <td>19.000000</td>\n",
       "      <td>390.955000</td>\n",
       "      <td>11.570000</td>\n",
       "    </tr>\n",
       "    <tr>\n",
       "      <th>75%</th>\n",
       "      <td>3.731923</td>\n",
       "      <td>12.500000</td>\n",
       "      <td>18.100000</td>\n",
       "      <td>0.000000</td>\n",
       "      <td>0.631000</td>\n",
       "      <td>6.630000</td>\n",
       "      <td>94.100000</td>\n",
       "      <td>5.100400</td>\n",
       "      <td>24.000000</td>\n",
       "      <td>666.000000</td>\n",
       "      <td>20.200000</td>\n",
       "      <td>395.630000</td>\n",
       "      <td>17.102500</td>\n",
       "    </tr>\n",
       "    <tr>\n",
       "      <th>max</th>\n",
       "      <td>73.534100</td>\n",
       "      <td>100.000000</td>\n",
       "      <td>27.740000</td>\n",
       "      <td>1.000000</td>\n",
       "      <td>0.871000</td>\n",
       "      <td>8.780000</td>\n",
       "      <td>100.000000</td>\n",
       "      <td>12.126500</td>\n",
       "      <td>24.000000</td>\n",
       "      <td>711.000000</td>\n",
       "      <td>22.000000</td>\n",
       "      <td>396.900000</td>\n",
       "      <td>36.980000</td>\n",
       "    </tr>\n",
       "  </tbody>\n",
       "</table>\n",
       "</div>"
      ],
      "text/plain": [
       "             CRIM          ZN       INDUS        CHAS         NOX          RM  \\\n",
       "count  404.000000  404.000000  404.000000  404.000000  404.000000  404.000000   \n",
       "mean     3.602814   10.836634   11.344950    0.069307    0.558064    6.279260   \n",
       "std      8.099383   22.150636    6.877817    0.254290    0.116875    0.711342   \n",
       "min      0.006320    0.000000    0.740000    0.000000    0.389000    3.561000   \n",
       "25%      0.086962    0.000000    5.190000    0.000000    0.453000    5.879750   \n",
       "50%      0.286735    0.000000    9.900000    0.000000    0.538000    6.213500   \n",
       "75%      3.731923   12.500000   18.100000    0.000000    0.631000    6.630000   \n",
       "max     73.534100  100.000000   27.740000    1.000000    0.871000    8.780000   \n",
       "\n",
       "              AGE         DIS         RAD         TAX    PATRATIO           B  \\\n",
       "count  404.000000  404.000000  404.000000  404.000000  404.000000  404.000000   \n",
       "mean    69.039851    3.746210    9.735149  412.341584   18.473267  353.392822   \n",
       "std     28.258248    2.099057    8.731259  168.672623    2.129243   96.069235   \n",
       "min      2.900000    1.129600    1.000000  187.000000   13.000000    0.320000   \n",
       "25%     44.850000    2.035975    4.000000  284.000000   17.400000  374.617500   \n",
       "50%     78.200000    3.122200    5.000000  337.000000   19.000000  390.955000   \n",
       "75%     94.100000    5.100400   24.000000  666.000000   20.200000  395.630000   \n",
       "max    100.000000   12.126500   24.000000  711.000000   22.000000  396.900000   \n",
       "\n",
       "            LSTAT  \n",
       "count  404.000000  \n",
       "mean    12.791609  \n",
       "std      7.235740  \n",
       "min      1.730000  \n",
       "25%      6.847500  \n",
       "50%     11.570000  \n",
       "75%     17.102500  \n",
       "max     36.980000  "
      ]
     },
     "execution_count": 54,
     "metadata": {},
     "output_type": "execute_result"
    }
   ],
   "source": [
    "housing_tr.describe()"
   ]
  },
  {
   "cell_type": "markdown",
   "id": "8d7fe089",
   "metadata": {},
   "source": [
    "# Scikit-learn Design"
   ]
  },
  {
   "cell_type": "markdown",
   "id": "0a42ab24",
   "metadata": {},
   "source": [
    "Primarily, three types of objects\n",
    "\n",
    "1. Estimators - It estimates some parameter based on a dataset. Eg imputer. It has a fit method ans transform method.Fit method - fits the dataset and calculate internal parameters.\n",
    "\n",
    "2. Transformers - trandform method takes input and returns output based on learning from fit(). It also has a convenience function called fit_transform() which fits and then transform.\n",
    "\n",
    "3. Predictors - LinearRegression model is an example of predictor. fit() and predict() are two common functions. It also gives  score function which will evaluate the predictions."
   ]
  },
  {
   "cell_type": "markdown",
   "id": "5cd6fde4",
   "metadata": {},
   "source": [
    "# Feature scaling"
   ]
  },
  {
   "cell_type": "markdown",
   "id": "f4533cf8",
   "metadata": {},
   "source": [
    "primarily, two types of feature scaling methods:\n",
    "    \n",
    "1. Min-MAX scaling (Normalization)\n",
    "       (value - min)/(max - min)\n",
    "       Sklearn provides a class called MinMaxScaler for this\n",
    "2. Standardization\n",
    "       (value - mean)/std\n",
    "       Sklearn provides a class called StandardScaler for this"
   ]
  },
  {
   "cell_type": "markdown",
   "id": "b2a07e63",
   "metadata": {},
   "source": [
    "# Creating a pipeline"
   ]
  },
  {
   "cell_type": "code",
   "execution_count": 55,
   "id": "1d9fdab2",
   "metadata": {},
   "outputs": [],
   "source": [
    "from sklearn.pipeline import Pipeline\n",
    "from sklearn.preprocessing import StandardScaler\n",
    "my_pipeline = Pipeline([\n",
    "    ('imputer',SimpleImputer(strategy=\"median\")),\n",
    "    #................ you can add as many as you want in your pipeline\n",
    "    ('std_scaler',StandardScaler())\n",
    "])"
   ]
  },
  {
   "cell_type": "code",
   "execution_count": 56,
   "id": "2a72f98d",
   "metadata": {},
   "outputs": [],
   "source": [
    "housing_num_tr = my_pipeline.fit_transform(housing_tr)"
   ]
  },
  {
   "cell_type": "code",
   "execution_count": 57,
   "id": "531d17d9",
   "metadata": {},
   "outputs": [
    {
     "data": {
      "text/plain": [
       "array([[-0.43942006,  3.12628155, -1.12165014, ..., -0.97491834,\n",
       "         0.41164221, -0.86091034],\n",
       "       [-0.44352175,  3.12628155, -1.35893781, ..., -0.69277865,\n",
       "         0.39131918, -0.94116739],\n",
       "       [ 0.15682292, -0.4898311 ,  0.98336806, ...,  0.81196637,\n",
       "         0.44624347,  0.81480158],\n",
       "       ...,\n",
       "       [-0.43525657, -0.4898311 , -1.23083158, ..., -0.22254583,\n",
       "         0.41831233, -1.27603303],\n",
       "       [ 0.14210728, -0.4898311 ,  0.98336806, ...,  0.81196637,\n",
       "        -3.15239177,  0.73869575],\n",
       "       [-0.43974024, -0.4898311 ,  0.37049623, ..., -0.97491834,\n",
       "         0.41070422,  0.09940681]])"
      ]
     },
     "execution_count": 57,
     "metadata": {},
     "output_type": "execute_result"
    }
   ],
   "source": [
    "housing_num_tr"
   ]
  },
  {
   "cell_type": "code",
   "execution_count": 58,
   "id": "bf8eb92c",
   "metadata": {},
   "outputs": [
    {
     "data": {
      "text/plain": [
       "(404, 13)"
      ]
     },
     "execution_count": 58,
     "metadata": {},
     "output_type": "execute_result"
    }
   ],
   "source": [
    "housing_num_tr.shape"
   ]
  },
  {
   "cell_type": "markdown",
   "id": "7bfbdf96",
   "metadata": {},
   "source": [
    "# Selcting a desired model for Dragon Real Estates"
   ]
  },
  {
   "cell_type": "code",
   "execution_count": 59,
   "id": "72e81af7",
   "metadata": {},
   "outputs": [
    {
     "data": {
      "text/plain": [
       "RandomForestRegressor()"
      ]
     },
     "execution_count": 59,
     "metadata": {},
     "output_type": "execute_result"
    }
   ],
   "source": [
    "from sklearn.linear_model import LinearRegression\n",
    "from sklearn.tree import DecisionTreeRegressor\n",
    "from sklearn.ensemble import RandomForestRegressor\n",
    "\n",
    "# model = LinearRegression()\n",
    "# model = DecisionTreeRegressor()\n",
    "model = RandomForestRegressor()\n",
    "\n",
    "# fit() method takes numpy array as an argument\n",
    "model.fit(housing_num_tr,housing_labels)"
   ]
  },
  {
   "cell_type": "code",
   "execution_count": 60,
   "id": "61cda27a",
   "metadata": {},
   "outputs": [],
   "source": [
    "some_data = housing_tr.iloc[:5]"
   ]
  },
  {
   "cell_type": "code",
   "execution_count": 61,
   "id": "ce00a435",
   "metadata": {},
   "outputs": [],
   "source": [
    "some_labels = housing_labels.iloc[:5]"
   ]
  },
  {
   "cell_type": "code",
   "execution_count": 62,
   "id": "cd320784",
   "metadata": {},
   "outputs": [],
   "source": [
    "prepared_data = my_pipeline.transform(some_data)"
   ]
  },
  {
   "cell_type": "code",
   "execution_count": 63,
   "id": "a663b494",
   "metadata": {},
   "outputs": [
    {
     "data": {
      "text/plain": [
       "array([22.651, 25.506, 16.505, 23.341, 23.423])"
      ]
     },
     "execution_count": 63,
     "metadata": {},
     "output_type": "execute_result"
    }
   ],
   "source": [
    "model.predict(prepared_data)"
   ]
  },
  {
   "cell_type": "code",
   "execution_count": 64,
   "id": "3f857e82",
   "metadata": {},
   "outputs": [
    {
     "data": {
      "text/plain": [
       "[21.9, 24.5, 16.7, 23.1, 23.0]"
      ]
     },
     "execution_count": 64,
     "metadata": {},
     "output_type": "execute_result"
    }
   ],
   "source": [
    "list(some_labels)"
   ]
  },
  {
   "cell_type": "markdown",
   "id": "aea02f5c",
   "metadata": {},
   "source": [
    "# Evaluating the model"
   ]
  },
  {
   "cell_type": "code",
   "execution_count": 65,
   "id": "e1db5f49",
   "metadata": {},
   "outputs": [],
   "source": [
    "from sklearn.metrics import mean_squared_error\n",
    "housing_predictions = model.predict(housing_num_tr)\n",
    "# lin_mse = mean_squared_error(housing_labels, housing_predictions)\n",
    "mse = mean_squared_error(housing_labels, housing_predictions)\n",
    "# lin_rmse = np.sqrt(lin_mse)\n",
    "rmse = np.sqrt(mse)"
   ]
  },
  {
   "cell_type": "code",
   "execution_count": 66,
   "id": "50821223",
   "metadata": {},
   "outputs": [
    {
     "data": {
      "text/plain": [
       "(1.367483482673266, 1.1693944940323886)"
      ]
     },
     "execution_count": 66,
     "metadata": {},
     "output_type": "execute_result"
    }
   ],
   "source": [
    "mse , rmse"
   ]
  },
  {
   "cell_type": "markdown",
   "id": "4daa7d85",
   "metadata": {},
   "source": [
    "# Using better evaluation techniques - cross validation techniques"
   ]
  },
  {
   "cell_type": "code",
   "execution_count": 67,
   "id": "639820bf",
   "metadata": {},
   "outputs": [],
   "source": [
    "# 1 2 3 4 5 6 7 8 9 10\n",
    "# 10 group me baat kar, 1 ko neglect kar k model ko check karna usme\n",
    "from sklearn.model_selection import cross_val_score\n",
    "scores = cross_val_score(model, housing_num_tr, housing_labels, scoring = \"neg_mean_squared_error\", cv = 10)\n",
    "rmse_scores = np.sqrt(-scores)"
   ]
  },
  {
   "cell_type": "code",
   "execution_count": 68,
   "id": "8889b7bc",
   "metadata": {},
   "outputs": [
    {
     "data": {
      "text/plain": [
       "array([2.84057497, 2.75273581, 4.49958974, 2.57399327, 3.61198135,\n",
       "       2.55733186, 4.60456939, 3.28121557, 3.24977536, 3.25048499])"
      ]
     },
     "execution_count": 68,
     "metadata": {},
     "output_type": "execute_result"
    }
   ],
   "source": [
    "rmse_scores"
   ]
  },
  {
   "cell_type": "code",
   "execution_count": 69,
   "id": "f8bba822",
   "metadata": {},
   "outputs": [],
   "source": [
    "def printScores(scores):\n",
    "    print(\"Scores: \", scores)\n",
    "    print(\"Mean: \", scores.mean())\n",
    "    print(\"Standard Devaiation: \", scores.std())"
   ]
  },
  {
   "cell_type": "code",
   "execution_count": 70,
   "id": "343c18ee",
   "metadata": {},
   "outputs": [
    {
     "name": "stdout",
     "output_type": "stream",
     "text": [
      "Scores:  [2.84057497 2.75273581 4.49958974 2.57399327 3.61198135 2.55733186\n",
      " 4.60456939 3.28121557 3.24977536 3.25048499]\n",
      "Mean:  3.3222252303734714\n",
      "Standard Devaiation:  0.6948271649976788\n"
     ]
    }
   ],
   "source": [
    "printScores(rmse_scores)"
   ]
  },
  {
   "cell_type": "markdown",
   "id": "c4c2c419",
   "metadata": {},
   "source": [
    "# Saving the model"
   ]
  },
  {
   "cell_type": "code",
   "execution_count": 71,
   "id": "6256e54c",
   "metadata": {},
   "outputs": [
    {
     "data": {
      "text/plain": [
       "['Dragon.joblib']"
      ]
     },
     "execution_count": 71,
     "metadata": {},
     "output_type": "execute_result"
    }
   ],
   "source": [
    "from joblib import dump, load\n",
    "dump(model, 'Dragon.joblib') "
   ]
  },
  {
   "cell_type": "markdown",
   "id": "97e0af42",
   "metadata": {},
   "source": [
    "# Testing the model on test data"
   ]
  },
  {
   "cell_type": "code",
   "execution_count": 72,
   "id": "959db5d5",
   "metadata": {},
   "outputs": [],
   "source": [
    "X_test = strat_test_set.drop(\"MEDV\", axis = 1)\n",
    "Y_test = strat_test_set[\"MEDV\"].copy()\n",
    "X_test_prepared = my_pipeline.transform(X_test)\n",
    "final_predictions = model.predict(X_test_prepared)\n",
    "final_mse = mean_squared_error(Y_test, final_predictions)\n",
    "final_rmse = np.sqrt(final_mse)"
   ]
  },
  {
   "cell_type": "code",
   "execution_count": 73,
   "id": "c6f1df1c",
   "metadata": {},
   "outputs": [
    {
     "data": {
      "text/plain": [
       "2.78456686004111"
      ]
     },
     "execution_count": 73,
     "metadata": {},
     "output_type": "execute_result"
    }
   ],
   "source": [
    "final_rmse"
   ]
  },
  {
   "cell_type": "markdown",
   "id": "8dfefe52",
   "metadata": {},
   "source": [
    "# Using the model"
   ]
  },
  {
   "cell_type": "code",
   "execution_count": 74,
   "id": "8f4a17ce",
   "metadata": {},
   "outputs": [
    {
     "data": {
      "text/plain": [
       "array([28.136])"
      ]
     },
     "execution_count": 74,
     "metadata": {},
     "output_type": "execute_result"
    }
   ],
   "source": [
    "from joblib import dump, load\n",
    "import numpy as np\n",
    "model = load(\"Dragon.joblib\")\n",
    "features = np.array([[-5.4394, 4.126, -1.616, -0.672, -1.4226, -11.44, -49.34, 7.611, -26, -7.007, -0.97, 0.41, -66.87]])\n",
    "model.predict(features)"
   ]
  },
  {
   "cell_type": "code",
   "execution_count": null,
   "id": "d56288f2",
   "metadata": {},
   "outputs": [],
   "source": []
  }
 ],
 "metadata": {
  "interpreter": {
   "hash": "08333f266fbf220cc6304d09a6d05685b04da102ef0ca7fc6ef97e1506f3d2b6"
  },
  "kernelspec": {
   "display_name": "Python 3 (ipykernel)",
   "language": "python",
   "name": "python3"
  },
  "language_info": {
   "codemirror_mode": {
    "name": "ipython",
    "version": 3
   },
   "file_extension": ".py",
   "mimetype": "text/x-python",
   "name": "python",
   "nbconvert_exporter": "python",
   "pygments_lexer": "ipython3",
   "version": "3.9.7"
  }
 },
 "nbformat": 4,
 "nbformat_minor": 5
}
