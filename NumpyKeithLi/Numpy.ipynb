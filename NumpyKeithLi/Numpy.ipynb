{
 "cells": [
  {
   "cell_type": "code",
   "execution_count": 1,
   "id": "b1de8889",
   "metadata": {},
   "outputs": [],
   "source": [
    "# Numpy is a multidimensional array type of data structures, here we can store 1D arrays, 2D arrays, and so on"
   ]
  },
  {
   "cell_type": "code",
   "execution_count": 2,
   "id": "9ca3d43d",
   "metadata": {},
   "outputs": [],
   "source": [
    "# List is slow, where as numpy are fast. Reason is that :\n",
    "# 1) Faster to use less bytes of memory\n",
    "# 2) No type checking when iterating through objects\n",
    "# 3) Numpy utilizes continuous memory"
   ]
  },
  {
   "cell_type": "code",
   "execution_count": 3,
   "id": "bfd304c4",
   "metadata": {},
   "outputs": [],
   "source": [
    "# Benefits of Numpy\n",
    "# 1) SIMD vector processing\n",
    "# 2) Effective Cache utilization"
   ]
  },
  {
   "cell_type": "code",
   "execution_count": 4,
   "id": "856ec929",
   "metadata": {},
   "outputs": [],
   "source": [
    "# Applications of Numpy\n",
    "# 1) Mathematics (MATLAB replacement)\n",
    "# 2) Ploting (Matplotlib)\n",
    "# 3) Backend of many different applications (Pandas, connect 4, Digital Photography)\n",
    "# 4) Machine learning"
   ]
  },
  {
   "cell_type": "code",
   "execution_count": 5,
   "id": "f5dd1ba4",
   "metadata": {},
   "outputs": [],
   "source": [
    "import numpy as np"
   ]
  },
  {
   "cell_type": "markdown",
   "id": "404b813c",
   "metadata": {},
   "source": [
    "##  The Basics (creating arrays, shape, size, data type)"
   ]
  },
  {
   "cell_type": "code",
   "execution_count": 6,
   "id": "5a21fc29",
   "metadata": {},
   "outputs": [
    {
     "name": "stdout",
     "output_type": "stream",
     "text": [
      "[2 5 1]\n"
     ]
    }
   ],
   "source": [
    "a = np.array([2, 5, 1])\n",
    "print(a)"
   ]
  },
  {
   "cell_type": "code",
   "execution_count": 7,
   "id": "feae2f79",
   "metadata": {},
   "outputs": [
    {
     "name": "stdout",
     "output_type": "stream",
     "text": [
      "[[0.2  2.4  1.56]\n",
      " [4.23 1.32 9.43]]\n"
     ]
    }
   ],
   "source": [
    "b = np.array([[0.2, 2.4, 1.56], [4.23, 1.32, 9.43]])\n",
    "print(b)"
   ]
  },
  {
   "cell_type": "code",
   "execution_count": 8,
   "id": "970ee898",
   "metadata": {},
   "outputs": [
    {
     "name": "stdout",
     "output_type": "stream",
     "text": [
      "1\n",
      "2\n"
     ]
    }
   ],
   "source": [
    "# Get Dimension\n",
    "print(a.ndim)\n",
    "print(b.ndim)"
   ]
  },
  {
   "cell_type": "code",
   "execution_count": 9,
   "id": "30150fee",
   "metadata": {},
   "outputs": [
    {
     "name": "stdout",
     "output_type": "stream",
     "text": [
      "(3,)\n",
      "(2, 3)\n"
     ]
    }
   ],
   "source": [
    "# Get shape\n",
    "print(a.shape)\n",
    "print(b.shape)"
   ]
  },
  {
   "cell_type": "code",
   "execution_count": 10,
   "id": "e58994fa",
   "metadata": {},
   "outputs": [
    {
     "name": "stdout",
     "output_type": "stream",
     "text": [
      "int32\n",
      "float64\n"
     ]
    }
   ],
   "source": [
    "# Get type\n",
    "# dtype -> datatype\n",
    "print(a.dtype)\n",
    "print(b.dtype)"
   ]
  },
  {
   "cell_type": "code",
   "execution_count": 11,
   "id": "1cb5b58b",
   "metadata": {},
   "outputs": [
    {
     "name": "stdout",
     "output_type": "stream",
     "text": [
      "4\n",
      "8\n"
     ]
    }
   ],
   "source": [
    "# Get size\n",
    "print(a.itemsize)\n",
    "print(b.itemsize)"
   ]
  },
  {
   "cell_type": "code",
   "execution_count": 12,
   "id": "74fbc4cc",
   "metadata": {},
   "outputs": [
    {
     "name": "stdout",
     "output_type": "stream",
     "text": [
      "3\n",
      "6\n"
     ]
    }
   ],
   "source": [
    "# Get number of elements\n",
    "print(a.size)\n",
    "print(b.size)"
   ]
  },
  {
   "cell_type": "code",
   "execution_count": 13,
   "id": "f4926e82",
   "metadata": {},
   "outputs": [
    {
     "name": "stdout",
     "output_type": "stream",
     "text": [
      "12\n",
      "48\n",
      "12\n",
      "48\n"
     ]
    }
   ],
   "source": [
    "# Total size = (a.size * a.itemsize)\n",
    "print(a.size * a.itemsize)\n",
    "print(b.size * b.itemsize)\n",
    "\n",
    "# or\n",
    "\n",
    "print(a.nbytes)\n",
    "print(b.nbytes)"
   ]
  },
  {
   "cell_type": "markdown",
   "id": "c7ba0ae1",
   "metadata": {},
   "source": [
    "## Accessing/Changing Specific Elements, Rows, Columns, etc (slicing)"
   ]
  },
  {
   "cell_type": "code",
   "execution_count": 14,
   "id": "231a8648",
   "metadata": {},
   "outputs": [
    {
     "name": "stdout",
     "output_type": "stream",
     "text": [
      "[[ 1  2  3  4  5  6  7]\n",
      " [ 8  9 10 11 12 13 14]]\n",
      "(2, 7)\n"
     ]
    }
   ],
   "source": [
    "a = np.array([ [1, 2, 3, 4, 5, 6, 7], [8, 9, 10, 11, 12, 13, 14]])\n",
    "print(a)\n",
    "print(a.shape)"
   ]
  },
  {
   "cell_type": "code",
   "execution_count": 15,
   "id": "afb26490",
   "metadata": {},
   "outputs": [
    {
     "data": {
      "text/plain": [
       "5"
      ]
     },
     "execution_count": 15,
     "metadata": {},
     "output_type": "execute_result"
    }
   ],
   "source": [
    "# To get a specific cell (R, C)\n",
    "a[0, 4]"
   ]
  },
  {
   "cell_type": "code",
   "execution_count": 16,
   "id": "beb39c8f",
   "metadata": {},
   "outputs": [
    {
     "name": "stdout",
     "output_type": "stream",
     "text": [
      "[ 8  9 10 11 12 13 14]\n"
     ]
    }
   ],
   "source": [
    "# To get a specific row\n",
    "print(a[1, : ])"
   ]
  },
  {
   "cell_type": "code",
   "execution_count": 17,
   "id": "75fc90c2",
   "metadata": {},
   "outputs": [
    {
     "name": "stdout",
     "output_type": "stream",
     "text": [
      "[ 4 11]\n"
     ]
    }
   ],
   "source": [
    "# To get a specific column\n",
    "print(a[ : , 3])"
   ]
  },
  {
   "cell_type": "code",
   "execution_count": 18,
   "id": "57e85861",
   "metadata": {},
   "outputs": [
    {
     "data": {
      "text/plain": [
       "array([2, 4, 6])"
      ]
     },
     "execution_count": 18,
     "metadata": {},
     "output_type": "execute_result"
    }
   ],
   "source": [
    "# Getting a little more fancy a[startindex : endindex : stepsize]\n",
    "a[0, 1:6:2]"
   ]
  },
  {
   "cell_type": "code",
   "execution_count": 19,
   "id": "07fadb6d",
   "metadata": {},
   "outputs": [
    {
     "data": {
      "text/plain": [
       "array([4, 6])"
      ]
     },
     "execution_count": 19,
     "metadata": {},
     "output_type": "execute_result"
    }
   ],
   "source": [
    "a[0, -4:-1:2]"
   ]
  },
  {
   "cell_type": "code",
   "execution_count": 20,
   "id": "ea1a0367",
   "metadata": {},
   "outputs": [
    {
     "name": "stdout",
     "output_type": "stream",
     "text": [
      "[[   1    2    3    4    5 2432    7]\n",
      " [   8    9   10   11   12   13   14]]\n"
     ]
    }
   ],
   "source": [
    "a[0, 5] = 2432\n",
    "print(a)"
   ]
  },
  {
   "cell_type": "code",
   "execution_count": 21,
   "id": "517ebe6b",
   "metadata": {},
   "outputs": [
    {
     "name": "stdout",
     "output_type": "stream",
     "text": [
      "[[34 34 34 34 34 34 34]\n",
      " [ 8  9 10 11 12 13 14]]\n"
     ]
    }
   ],
   "source": [
    "a[0, : ] = 34\n",
    "print(a)"
   ]
  },
  {
   "cell_type": "code",
   "execution_count": 22,
   "id": "a5aa71a9",
   "metadata": {},
   "outputs": [
    {
     "name": "stdout",
     "output_type": "stream",
     "text": [
      "[[ 1  2  3  4  5  6  7]\n",
      " [ 8  9 10 11 12 13 14]]\n"
     ]
    }
   ],
   "source": [
    "a[0, : ] = [1, 2, 3, 4, 5, 6, 7]\n",
    "print(a)"
   ]
  },
  {
   "cell_type": "code",
   "execution_count": 23,
   "id": "c53c3b77",
   "metadata": {},
   "outputs": [
    {
     "name": "stdout",
     "output_type": "stream",
     "text": [
      "[[  1   2 345   4   5   6   7]\n",
      " [  8   9 345  11  12  13  14]]\n"
     ]
    }
   ],
   "source": [
    "a[ : , 2] = 345\n",
    "print(a)"
   ]
  },
  {
   "cell_type": "code",
   "execution_count": 24,
   "id": "e90febc4",
   "metadata": {},
   "outputs": [
    {
     "name": "stdout",
     "output_type": "stream",
     "text": [
      "[[   1    2 2345    4    5    6    7]\n",
      " [   8    9 4041   11   12   13   14]]\n"
     ]
    }
   ],
   "source": [
    "a[ : , 2] = [2345, 4041]\n",
    "print(a)"
   ]
  },
  {
   "cell_type": "code",
   "execution_count": 25,
   "id": "a9bf7961",
   "metadata": {},
   "outputs": [
    {
     "name": "stdout",
     "output_type": "stream",
     "text": [
      "[[[1 2]\n",
      "  [3 4]]\n",
      "\n",
      " [[5 6]\n",
      "  [7 8]]]\n"
     ]
    }
   ],
   "source": [
    "# 3D example\n",
    "c = np.array([ [ [1, 2], [3, 4] ], [ [5, 6], [7, 8] ] ])\n",
    "print(c)"
   ]
  },
  {
   "cell_type": "code",
   "execution_count": 26,
   "id": "0b749b7b",
   "metadata": {},
   "outputs": [
    {
     "data": {
      "text/plain": [
       "array([3, 4])"
      ]
     },
     "execution_count": 26,
     "metadata": {},
     "output_type": "execute_result"
    }
   ],
   "source": [
    "c[0, 1, : ]"
   ]
  },
  {
   "cell_type": "code",
   "execution_count": 27,
   "id": "e76ec28f",
   "metadata": {},
   "outputs": [
    {
     "data": {
      "text/plain": [
       "array([[3, 4],\n",
       "       [7, 8]])"
      ]
     },
     "execution_count": 27,
     "metadata": {},
     "output_type": "execute_result"
    }
   ],
   "source": [
    "c[ : , 1, :]"
   ]
  },
  {
   "cell_type": "code",
   "execution_count": 29,
   "id": "65300bae",
   "metadata": {},
   "outputs": [
    {
     "name": "stdout",
     "output_type": "stream",
     "text": [
      "[[[1 2]\n",
      "  [0 0]]\n",
      "\n",
      " [[5 6]\n",
      "  [0 0]]]\n"
     ]
    }
   ],
   "source": [
    "c[ : , 1, : ] = [[0, 0], [0, 0]]\n",
    "print(c)"
   ]
  },
  {
   "cell_type": "markdown",
   "id": "cc3afb2d",
   "metadata": {},
   "source": [
    "## Initializing Different Arrays (1s, 0s, full, random, etc...)"
   ]
  },
  {
   "cell_type": "code",
   "execution_count": 32,
   "id": "194b14bd",
   "metadata": {},
   "outputs": [
    {
     "name": "stdout",
     "output_type": "stream",
     "text": [
      "[0. 0. 0. 0. 0.]\n",
      "[[0. 0. 0.]\n",
      " [0. 0. 0.]]\n",
      "[[[[0. 0.]\n",
      "   [0. 0.]\n",
      "   [0. 0.]]\n",
      "\n",
      "  [[0. 0.]\n",
      "   [0. 0.]\n",
      "   [0. 0.]]\n",
      "\n",
      "  [[0. 0.]\n",
      "   [0. 0.]\n",
      "   [0. 0.]]]\n",
      "\n",
      "\n",
      " [[[0. 0.]\n",
      "   [0. 0.]\n",
      "   [0. 0.]]\n",
      "\n",
      "  [[0. 0.]\n",
      "   [0. 0.]\n",
      "   [0. 0.]]\n",
      "\n",
      "  [[0. 0.]\n",
      "   [0. 0.]\n",
      "   [0. 0.]]]]\n"
     ]
    }
   ],
   "source": [
    "# All 0s matrix\n",
    "z = np.zeros(5)\n",
    "print(z)\n",
    "\n",
    "z = np.zeros((2,3))\n",
    "print(z)\n",
    "\n",
    "z = np.zeros((2,3,3,2))\n",
    "print(z)"
   ]
  },
  {
   "cell_type": "code",
   "execution_count": 33,
   "id": "ed82853c",
   "metadata": {},
   "outputs": [
    {
     "name": "stdout",
     "output_type": "stream",
     "text": [
      "[[[1 1 1]\n",
      "  [1 1 1]\n",
      "  [1 1 1]]\n",
      "\n",
      " [[1 1 1]\n",
      "  [1 1 1]\n",
      "  [1 1 1]]]\n"
     ]
    }
   ],
   "source": [
    "# All 1s matrix\n",
    "one = np.ones((2,3,3), np.int64)\n",
    "print(one)"
   ]
  },
  {
   "cell_type": "code",
   "execution_count": 35,
   "id": "313d5828",
   "metadata": {},
   "outputs": [
    {
     "name": "stdout",
     "output_type": "stream",
     "text": [
      "[[99. 99. 99.]\n",
      " [99. 99. 99.]]\n"
     ]
    }
   ],
   "source": [
    "# Any other number\n",
    "a = np.full((2,3), 99, np.float32)\n",
    "print(a)"
   ]
  },
  {
   "cell_type": "code",
   "execution_count": 36,
   "id": "87d7741f",
   "metadata": {},
   "outputs": [
    {
     "name": "stdout",
     "output_type": "stream",
     "text": [
      "[[0.2  2.4  1.56]\n",
      " [4.23 1.32 9.43]]\n"
     ]
    }
   ],
   "source": [
    "print(b)"
   ]
  },
  {
   "cell_type": "code",
   "execution_count": 40,
   "id": "679e5b96",
   "metadata": {},
   "outputs": [
    {
     "name": "stdout",
     "output_type": "stream",
     "text": [
      "[[5 5 5]\n",
      " [5 5 5]]\n",
      "[[4. 4. 4.]\n",
      " [4. 4. 4.]]\n"
     ]
    }
   ],
   "source": [
    "# Any other method (full_like)\n",
    "a = np.full(b.shape, 5)\n",
    "print(a)\n",
    "\n",
    "a = np.full_like(b, 4)\n",
    "print(a)"
   ]
  },
  {
   "cell_type": "code",
   "execution_count": 42,
   "id": "2fb1108c",
   "metadata": {},
   "outputs": [
    {
     "data": {
      "text/plain": [
       "array([[0.74547161, 0.33855607, 0.92205046, 0.57717183],\n",
       "       [0.75392417, 0.09950819, 0.51283337, 0.95080582]])"
      ]
     },
     "execution_count": 42,
     "metadata": {},
     "output_type": "execute_result"
    }
   ],
   "source": [
    "# Random decimal numbers\n",
    "# Note : here there is exception , that we do not use tuple inside ((2,4))\n",
    "np.random.rand(2,4)"
   ]
  },
  {
   "cell_type": "code",
   "execution_count": 44,
   "id": "fec490a9",
   "metadata": {},
   "outputs": [
    {
     "data": {
      "text/plain": [
       "array([[0.46356394, 0.33462751, 0.16420107, 0.61098523, 0.4581942 ],\n",
       "       [0.15028921, 0.11452544, 0.615442  , 0.61440701, 0.15760479]])"
      ]
     },
     "execution_count": 44,
     "metadata": {},
     "output_type": "execute_result"
    }
   ],
   "source": [
    "# To use tuple\n",
    "np.random.random_sample((2,5))"
   ]
  },
  {
   "cell_type": "code",
   "execution_count": 45,
   "id": "d3c53296",
   "metadata": {},
   "outputs": [
    {
     "name": "stdout",
     "output_type": "stream",
     "text": [
      "3\n",
      "[[3 3 0]\n",
      " [0 3 1]\n",
      " [0 2 3]]\n"
     ]
    }
   ],
   "source": [
    "# Random integer values\n",
    "print(np.random.randint(7))\n",
    "\n",
    "print(np.random.randint(4, size = (3, 3)))"
   ]
  },
  {
   "cell_type": "code",
   "execution_count": 46,
   "id": "63a67111",
   "metadata": {},
   "outputs": [
    {
     "name": "stdout",
     "output_type": "stream",
     "text": [
      "[[5 4 6 5]\n",
      " [4 6 4 6]]\n"
     ]
    }
   ],
   "source": [
    "# All numbers between [4,7)\n",
    "print(np.random.randint(4,7,size = (2,4)))"
   ]
  },
  {
   "cell_type": "code",
   "execution_count": 51,
   "id": "08e0ec7f",
   "metadata": {},
   "outputs": [
    {
     "data": {
      "text/plain": [
       "array([[1., 0., 0., 0.],\n",
       "       [0., 1., 0., 0.],\n",
       "       [0., 0., 1., 0.],\n",
       "       [0., 0., 0., 1.]])"
      ]
     },
     "execution_count": 51,
     "metadata": {},
     "output_type": "execute_result"
    }
   ],
   "source": [
    "np.identity(4)"
   ]
  },
  {
   "cell_type": "code",
   "execution_count": 48,
   "id": "7b05627f",
   "metadata": {},
   "outputs": [
    {
     "name": "stdout",
     "output_type": "stream",
     "text": [
      "[1 1 1 2 2 2 3 3 3]\n"
     ]
    }
   ],
   "source": [
    "# Repeat an array\n",
    "arr =np.array([1, 2, 3])\n",
    "r1 = np.repeat(arr, 3)\n",
    "print(r1)"
   ]
  },
  {
   "cell_type": "code",
   "execution_count": 52,
   "id": "13dd3825",
   "metadata": {},
   "outputs": [
    {
     "name": "stdout",
     "output_type": "stream",
     "text": [
      "[1 1 1 2 2 2 3 3 3]\n"
     ]
    }
   ],
   "source": [
    "arr =np.array([1, 2, 3])\n",
    "r1 = np.repeat(arr, 3)\n",
    "print(r1)"
   ]
  },
  {
   "cell_type": "code",
   "execution_count": 50,
   "id": "7b8e5f0e",
   "metadata": {},
   "outputs": [
    {
     "name": "stdout",
     "output_type": "stream",
     "text": [
      "[[1 2 3]\n",
      " [1 2 3]\n",
      " [1 2 3]]\n"
     ]
    }
   ],
   "source": [
    "\n",
    "arr =np.array([ [1, 2, 3] ])\n",
    "r1 = np.repeat(arr, 3, axis = 0)\n",
    "print(r1)"
   ]
  },
  {
   "cell_type": "markdown",
   "id": "f5df51f0",
   "metadata": {},
   "source": [
    "## Problem #1 (How do you initialize this array?)"
   ]
  },
  {
   "cell_type": "code",
   "execution_count": 55,
   "id": "98a566ac",
   "metadata": {},
   "outputs": [
    {
     "name": "stdout",
     "output_type": "stream",
     "text": [
      "[[1. 1. 1. 1. 1.]\n",
      " [1. 0. 0. 0. 1.]\n",
      " [1. 0. 9. 0. 1.]\n",
      " [1. 0. 0. 0. 1.]\n",
      " [1. 1. 1. 1. 1.]]\n"
     ]
    }
   ],
   "source": [
    "arr = np.ones((5, 5))\n",
    "arr[ 1:-1, 1:-1 ] = 0\n",
    "arr[2][2] = 9;\n",
    "print(arr)"
   ]
  },
  {
   "cell_type": "markdown",
   "id": "413321a1",
   "metadata": {},
   "source": [
    "## Be careful when copying variables!"
   ]
  },
  {
   "cell_type": "code",
   "execution_count": 56,
   "id": "451b201c",
   "metadata": {},
   "outputs": [
    {
     "name": "stdout",
     "output_type": "stream",
     "text": [
      "[100   2   3]\n"
     ]
    }
   ],
   "source": [
    "a = np.array([1, 2, 3])\n",
    "b = a\n",
    "b[0] = 100\n",
    "print(a)"
   ]
  },
  {
   "cell_type": "code",
   "execution_count": 57,
   "id": "d6e2c363",
   "metadata": {},
   "outputs": [
    {
     "name": "stdout",
     "output_type": "stream",
     "text": [
      "[1 2 3]\n"
     ]
    }
   ],
   "source": [
    "a = np.array([1, 2, 3])\n",
    "b = a.copy()\n",
    "b[0] = 100\n",
    "print(a)"
   ]
  },
  {
   "cell_type": "markdown",
   "id": "3f3f159c",
   "metadata": {},
   "source": [
    "## Basic Mathematics (arithmetic, trigonometry, etc.)"
   ]
  },
  {
   "cell_type": "code",
   "execution_count": 58,
   "id": "feec22da",
   "metadata": {},
   "outputs": [
    {
     "name": "stdout",
     "output_type": "stream",
     "text": [
      "[1 2 3 4]\n"
     ]
    }
   ],
   "source": [
    "a = np.array([1, 2, 3, 4])\n",
    "print(a)"
   ]
  },
  {
   "cell_type": "code",
   "execution_count": 59,
   "id": "93200be8",
   "metadata": {},
   "outputs": [
    {
     "data": {
      "text/plain": [
       "array([3, 4, 5, 6])"
      ]
     },
     "execution_count": 59,
     "metadata": {},
     "output_type": "execute_result"
    }
   ],
   "source": [
    "a + 2"
   ]
  },
  {
   "cell_type": "code",
   "execution_count": 60,
   "id": "9bf6ec13",
   "metadata": {},
   "outputs": [
    {
     "data": {
      "text/plain": [
       "array([-1,  0,  1,  2])"
      ]
     },
     "execution_count": 60,
     "metadata": {},
     "output_type": "execute_result"
    }
   ],
   "source": [
    "a - 2"
   ]
  },
  {
   "cell_type": "code",
   "execution_count": 61,
   "id": "6bd5e487",
   "metadata": {},
   "outputs": [
    {
     "data": {
      "text/plain": [
       "array([2, 4, 6, 8])"
      ]
     },
     "execution_count": 61,
     "metadata": {},
     "output_type": "execute_result"
    }
   ],
   "source": [
    "a * 2"
   ]
  },
  {
   "cell_type": "code",
   "execution_count": 62,
   "id": "eb77e4f6",
   "metadata": {},
   "outputs": [
    {
     "data": {
      "text/plain": [
       "array([0.5, 1. , 1.5, 2. ])"
      ]
     },
     "execution_count": 62,
     "metadata": {},
     "output_type": "execute_result"
    }
   ],
   "source": [
    "a / 2"
   ]
  },
  {
   "cell_type": "code",
   "execution_count": 63,
   "id": "569991f3",
   "metadata": {},
   "outputs": [
    {
     "name": "stdout",
     "output_type": "stream",
     "text": [
      "[2 2 4 4]\n"
     ]
    }
   ],
   "source": [
    "b = np.array([1,0,1,0])\n",
    "a+=b\n",
    "print(a)"
   ]
  },
  {
   "cell_type": "code",
   "execution_count": 64,
   "id": "5b18b16a",
   "metadata": {},
   "outputs": [
    {
     "data": {
      "text/plain": [
       "array([ 4,  4, 16, 16], dtype=int32)"
      ]
     },
     "execution_count": 64,
     "metadata": {},
     "output_type": "execute_result"
    }
   ],
   "source": [
    "a ** 2"
   ]
  },
  {
   "cell_type": "code",
   "execution_count": 65,
   "id": "305f6ad1",
   "metadata": {},
   "outputs": [
    {
     "name": "stdout",
     "output_type": "stream",
     "text": [
      "[ 0.90929743  0.90929743 -0.7568025  -0.7568025 ]\n",
      "[-0.41614684 -0.41614684 -0.65364362 -0.65364362]\n"
     ]
    }
   ],
   "source": [
    "print(np.sin(a))\n",
    "print(np.cos(a))"
   ]
  },
  {
   "cell_type": "markdown",
   "id": "8655da76",
   "metadata": {},
   "source": [
    "## Linear Algebra"
   ]
  },
  {
   "cell_type": "code",
   "execution_count": 67,
   "id": "7ed99b20",
   "metadata": {},
   "outputs": [
    {
     "name": "stdout",
     "output_type": "stream",
     "text": [
      "[[1. 1. 1.]\n",
      " [1. 1. 1.]]\n",
      "[[2 2]\n",
      " [2 2]\n",
      " [2 2]]\n",
      "[[6. 6.]\n",
      " [6. 6.]]\n"
     ]
    }
   ],
   "source": [
    "a = np.ones((2,3))\n",
    "print(a)\n",
    "\n",
    "b  = np.full((3,2), 2)\n",
    "print(b)\n",
    "\n",
    "# print(a*b) this doesnot work because both have different sizes\n",
    "\n",
    "print(np.matmul(a, b))"
   ]
  },
  {
   "cell_type": "code",
   "execution_count": 69,
   "id": "5708746c",
   "metadata": {},
   "outputs": [
    {
     "data": {
      "text/plain": [
       "1.0"
      ]
     },
     "execution_count": 69,
     "metadata": {},
     "output_type": "execute_result"
    }
   ],
   "source": [
    "# To get determinant of a matrix\n",
    "\n",
    "np.linalg.det(np.identity())"
   ]
  },
  {
   "cell_type": "markdown",
   "id": "b3fc2c98",
   "metadata": {},
   "source": [
    "## Statistics"
   ]
  },
  {
   "cell_type": "code",
   "execution_count": 70,
   "id": "6cd5321a",
   "metadata": {},
   "outputs": [
    {
     "data": {
      "text/plain": [
       "array([[1, 2, 3],\n",
       "       [4, 5, 6]])"
      ]
     },
     "execution_count": 70,
     "metadata": {},
     "output_type": "execute_result"
    }
   ],
   "source": [
    "stats = np.array([[1,2,3],[4,5,6]])\n",
    "stats"
   ]
  },
  {
   "cell_type": "code",
   "execution_count": 71,
   "id": "56f99815",
   "metadata": {},
   "outputs": [
    {
     "name": "stdout",
     "output_type": "stream",
     "text": [
      "1\n",
      "[1 2 3]\n",
      "[1 4]\n"
     ]
    }
   ],
   "source": [
    "print(np.min(stats))\n",
    "print(np.min(stats, axis = 0))\n",
    "print(np.min(stats, axis = 1))"
   ]
  },
  {
   "cell_type": "code",
   "execution_count": 72,
   "id": "58aa585f",
   "metadata": {},
   "outputs": [
    {
     "name": "stdout",
     "output_type": "stream",
     "text": [
      "6\n",
      "[4 5 6]\n",
      "[3 6]\n"
     ]
    }
   ],
   "source": [
    "print(np.max(stats))\n",
    "print(np.max(stats, axis = 0))\n",
    "print(np.max(stats, axis = 1))"
   ]
  },
  {
   "cell_type": "code",
   "execution_count": 73,
   "id": "1ed81e79",
   "metadata": {},
   "outputs": [
    {
     "data": {
      "text/plain": [
       "array([5, 7, 9])"
      ]
     },
     "execution_count": 73,
     "metadata": {},
     "output_type": "execute_result"
    }
   ],
   "source": [
    "np.sum(stats, axis = 0)"
   ]
  },
  {
   "cell_type": "markdown",
   "id": "deeefafe",
   "metadata": {},
   "source": [
    "## Reorganizing Arrays (reshape, vstack, hstack)"
   ]
  },
  {
   "cell_type": "code",
   "execution_count": 76,
   "id": "4dc249a6",
   "metadata": {},
   "outputs": [
    {
     "name": "stdout",
     "output_type": "stream",
     "text": [
      "[[1 2 3 4]\n",
      " [5 6 7 8]]\n",
      "[[1 2]\n",
      " [3 4]\n",
      " [5 6]\n",
      " [7 8]]\n",
      "[[[1 2]\n",
      "  [3 4]]\n",
      "\n",
      " [[5 6]\n",
      "  [7 8]]]\n"
     ]
    }
   ],
   "source": [
    "before = np.array([[1,2,3,4],[5,6,7,8]])\n",
    "print(before)\n",
    "\n",
    "after = before.reshape((4,2))\n",
    "print(after)\n",
    "\n",
    "print(before.reshape(2, 2, 2))"
   ]
  },
  {
   "cell_type": "code",
   "execution_count": 77,
   "id": "c37aaf60",
   "metadata": {},
   "outputs": [
    {
     "data": {
      "text/plain": [
       "array([[1, 2, 3, 4],\n",
       "       [5, 6, 7, 8],\n",
       "       [1, 2, 3, 4],\n",
       "       [5, 6, 7, 8]])"
      ]
     },
     "execution_count": 77,
     "metadata": {},
     "output_type": "execute_result"
    }
   ],
   "source": [
    "# Vertically stacking vectors\n",
    "v1 = np.array([1,2,3,4])\n",
    "v2 = np.array([5,6,7,8])\n",
    "\n",
    "np.vstack([v1,v2,v1,v2])"
   ]
  },
  {
   "cell_type": "code",
   "execution_count": 78,
   "id": "0176fb55",
   "metadata": {},
   "outputs": [
    {
     "data": {
      "text/plain": [
       "array([[1., 1., 1., 1., 0., 0.],\n",
       "       [1., 1., 1., 1., 0., 0.]])"
      ]
     },
     "execution_count": 78,
     "metadata": {},
     "output_type": "execute_result"
    }
   ],
   "source": [
    "# Horizontal  stack\n",
    "h1 = np.ones((2,4))\n",
    "h2 = np.zeros((2,2))\n",
    "\n",
    "np.hstack((h1,h2))"
   ]
  },
  {
   "cell_type": "markdown",
   "id": "462c20d1",
   "metadata": {},
   "source": [
    "## Load data in from a file"
   ]
  },
  {
   "cell_type": "code",
   "execution_count": 82,
   "id": "b017d753",
   "metadata": {},
   "outputs": [
    {
     "name": "stdout",
     "output_type": "stream",
     "text": [
      "[[  1.  13.  21.  11. 196.  75.   4.   3.  34.   6.   7.   8.   0.   1.\n",
      "    2.   3.   4.   5.]\n",
      " [  3.  42.  12.  33. 766.  75.   4.  55.   6.   4.   3.   4.   5.   6.\n",
      "    7.   0.  11.  12.]\n",
      " [  1.  22.  33.  11. 999.  11.   2.   1.  78.   0.   1.   2.   9.   8.\n",
      "    7.   1.  76.  88.]]\n",
      "[[  1  13  21  11 196  75   4   3  34   6   7   8   0   1   2   3   4   5]\n",
      " [  3  42  12  33 766  75   4  55   6   4   3   4   5   6   7   0  11  12]\n",
      " [  1  22  33  11 999  11   2   1  78   0   1   2   9   8   7   1  76  88]]\n"
     ]
    }
   ],
   "source": [
    "\n",
    "'''\n",
    "\n",
    "data.txt looks like ::\n",
    "\n",
    "1,13,21,11,196,75,4,3,34,6,7,8,0,1,2,3,4,5\n",
    "3,42,12,33,766,75,4,55,6,4,3,4,5,6,7,0,11,12\n",
    "1,22,33,11,999,11,2,1,78,0,1,2,9,8,7,1,76,88\n",
    "\n",
    "\n",
    "\n",
    "'''\n",
    "\n",
    "filedata = np.genfromtxt('data.txt', delimiter=',')\n",
    "print(filedata)\n",
    "filedata = filedata.astype('int32')\n",
    "print(filedata)"
   ]
  },
  {
   "cell_type": "markdown",
   "id": "c071573d",
   "metadata": {},
   "source": [
    "## Advanced Indexing and Boolean Masking"
   ]
  },
  {
   "cell_type": "code",
   "execution_count": 83,
   "id": "4b8f3253",
   "metadata": {},
   "outputs": [
    {
     "data": {
      "text/plain": [
       "array([[False, False, False, False,  True,  True, False, False, False,\n",
       "        False, False, False, False, False, False, False, False, False],\n",
       "       [False, False, False, False,  True,  True, False,  True, False,\n",
       "        False, False, False, False, False, False, False, False, False],\n",
       "       [False, False, False, False,  True, False, False, False,  True,\n",
       "        False, False, False, False, False, False, False,  True,  True]])"
      ]
     },
     "execution_count": 83,
     "metadata": {},
     "output_type": "execute_result"
    }
   ],
   "source": [
    "# It returns boolean values of a query in the form of a matrix\n",
    "filedata > 50"
   ]
  },
  {
   "cell_type": "code",
   "execution_count": 84,
   "id": "632afba0",
   "metadata": {},
   "outputs": [
    {
     "data": {
      "text/plain": [
       "array([196,  75, 766,  75,  55, 999,  78,  76,  88])"
      ]
     },
     "execution_count": 84,
     "metadata": {},
     "output_type": "execute_result"
    }
   ],
   "source": [
    "filedata[ filedata> 50]"
   ]
  },
  {
   "cell_type": "code",
   "execution_count": 85,
   "id": "24c94487",
   "metadata": {},
   "outputs": [
    {
     "data": {
      "text/plain": [
       "array([2, 3, 5])"
      ]
     },
     "execution_count": 85,
     "metadata": {},
     "output_type": "execute_result"
    }
   ],
   "source": [
    "# You can index with a list in numpy\n",
    "a = np.array([1, 2, 3, 4, 5, 6, 7, 8, 9])\n",
    "\n",
    "a[[1, 2, 4]]"
   ]
  },
  {
   "cell_type": "code",
   "execution_count": 86,
   "id": "8b59b161",
   "metadata": {},
   "outputs": [
    {
     "data": {
      "text/plain": [
       "array([False, False, False, False,  True,  True, False,  True,  True,\n",
       "       False, False, False, False, False, False, False,  True,  True])"
      ]
     },
     "execution_count": 86,
     "metadata": {},
     "output_type": "execute_result"
    }
   ],
   "source": [
    "# Lets say, i want to know that is there any column , where any data in that column is > a particular value\n",
    "\n",
    "np.any(filedata > 50, axis = 0)"
   ]
  },
  {
   "cell_type": "code",
   "execution_count": 87,
   "id": "a3d2d674",
   "metadata": {},
   "outputs": [
    {
     "data": {
      "text/plain": [
       "array([False, False, False, False,  True, False, False, False, False,\n",
       "       False, False, False, False, False, False, False, False, False])"
      ]
     },
     "execution_count": 87,
     "metadata": {},
     "output_type": "execute_result"
    }
   ],
   "source": [
    "np.all( filedata > 50 , axis = 0)"
   ]
  },
  {
   "cell_type": "code",
   "execution_count": 91,
   "id": "bdb98122",
   "metadata": {},
   "outputs": [
    {
     "data": {
      "text/plain": [
       "array([[False, False, False, False, False,  True, False, False, False,\n",
       "        False, False, False, False, False, False, False, False, False],\n",
       "       [False, False, False, False, False,  True, False,  True, False,\n",
       "        False, False, False, False, False, False, False, False, False],\n",
       "       [False, False, False, False, False, False, False, False,  True,\n",
       "        False, False, False, False, False, False, False,  True,  True]])"
      ]
     },
     "execution_count": 91,
     "metadata": {},
     "output_type": "execute_result"
    }
   ],
   "source": [
    "# Here we use &(and) |(or) irrespetive of python language\n",
    "( (filedata > 50) & (filedata < 100))"
   ]
  },
  {
   "cell_type": "markdown",
   "id": "090b48dd",
   "metadata": {},
   "source": [
    "## Problem #2 (How do you index these values?)"
   ]
  },
  {
   "cell_type": "code",
   "execution_count": 95,
   "id": "b40e4f91",
   "metadata": {},
   "outputs": [
    {
     "name": "stdout",
     "output_type": "stream",
     "text": [
      "[ 1  2  3  4  5  6  7  8  9 10 11 12 13 14 15 16 17 18 19 20 21 22 23 24\n",
      " 25]\n",
      "[[ 1  2  3  4  5]\n",
      " [ 6  7  8  9 10]\n",
      " [11 12 13 14 15]\n",
      " [16 17 18 19 20]\n",
      " [21 22 23 24 25]]\n"
     ]
    }
   ],
   "source": [
    "a = np.arange(1,26)\n",
    "print(a)\n",
    "\n",
    "a = a.reshape((5,5))\n",
    "print(a)"
   ]
  },
  {
   "cell_type": "code",
   "execution_count": 96,
   "id": "d2103aac",
   "metadata": {},
   "outputs": [
    {
     "name": "stdout",
     "output_type": "stream",
     "text": [
      "[[11 12]\n",
      " [16 17]]\n"
     ]
    }
   ],
   "source": [
    "print(a[ 2:-1 , 0:2])"
   ]
  },
  {
   "cell_type": "code",
   "execution_count": 97,
   "id": "d165e4d3",
   "metadata": {},
   "outputs": [
    {
     "name": "stdout",
     "output_type": "stream",
     "text": [
      "[ 2  8 14 20]\n"
     ]
    }
   ],
   "source": [
    "print(a[[0, 1, 2, 3] , [1, 2, 3, 4]])"
   ]
  },
  {
   "cell_type": "code",
   "execution_count": 98,
   "id": "2ca6d9a2",
   "metadata": {},
   "outputs": [
    {
     "name": "stdout",
     "output_type": "stream",
     "text": [
      "[[ 4  5]\n",
      " [19 20]\n",
      " [24 25]]\n"
     ]
    }
   ],
   "source": [
    "print(a[[0, 3, 4] , 3: ])"
   ]
  }
 ],
 "metadata": {
  "kernelspec": {
   "display_name": "Python 3 (ipykernel)",
   "language": "python",
   "name": "python3"
  },
  "language_info": {
   "codemirror_mode": {
    "name": "ipython",
    "version": 3
   },
   "file_extension": ".py",
   "mimetype": "text/x-python",
   "name": "python",
   "nbconvert_exporter": "python",
   "pygments_lexer": "ipython3",
   "version": "3.9.7"
  }
 },
 "nbformat": 4,
 "nbformat_minor": 5
}
